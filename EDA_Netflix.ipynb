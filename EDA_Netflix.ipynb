{
 "cells": [
  {
   "attachments": {
    "netflix.png": {
     "image/png": "[encoded data removed]"
    }
   },
   "cell_type": "markdown",
   "id": "e829deae",
   "metadata": {},
   "source": [
    "![netflix.png](attachment:netflix.png)"
   ]
  },
  {
   "cell_type": "markdown",
   "id": "d337063b",
   "metadata": {},
   "source": [
    "A Netflix é uma plataforma de streaming criada em 1997. A empresa tinha como foco inicial a locação de filmes. O modelo de streaming como conhecemos hoje, surgiu em 2007. Atualmente os assinantes pagam uma mensalidade e têm acesso a inúmeros títulos 24h por dia. Além da transmissão de séries e filmes de terceiros, desde 2013 a Netflix têm investido em conteúdos originais como The Crown, Ozark e House of Cards. \n",
    "\n",
    "A plataforma chegou ao Brasil em 2011 e atualmente possui inúmeras produções originais brasileiras como 3%, Coisa mais linda e Cidade Invisível. \n",
    "\n",
    "Este dataset disponível no [Kaggle](https://www.kaggle.com/shivamb/netflix-shows) apresenta uma lista com todos os filmes e seriados disponíveis na plataforma até o meio de 2021. \n",
    "\n",
    "Este projeto tem como objetivo explorar o dataset através de visualizações de dados utilizando a linguagem Python."
   ]
  },
  {
   "cell_type": "markdown",
   "id": "cf6a71fa",
   "metadata": {},
   "source": [
    "* ```show_id``` - número de id único para identificar o título\n",
    "* ```type``` - tipo do título (filme ou tv show)\n",
    "* ```title``` - nome do filme ou tv show\n",
    "* ```director``` - nome do diretor\n",
    "* ```cast``` - nome dos atores do elenco\n",
    "* ```country``` - país de origem da produção\n",
    "* ```date_added``` - data em que o título foi adicionado à plataforma\n",
    "* ```release_year```- data de estréia do título\n",
    "* ```rating``` - classificação indicativa\n",
    "* ```duration``` - duração (minutos ou temporadas)\n",
    "* ```listed_in``` - gênero do título\n",
    "* ```description``` - descrição do título"
   ]
  },
  {
   "cell_type": "markdown",
   "id": "38cace18",
   "metadata": {},
   "source": [
    "## Bibliotecas e Carregando os dados"
   ]
  },
  {
   "cell_type": "code",
   "execution_count": 1,
   "id": "0d430d51",
   "metadata": {},
   "outputs": [],
   "source": [
    "# Importando as bibliotecas necessárias\n",
    "\n",
    "import pandas as pd\n",
    "import numpy as np\n",
    "import matplotlib\n",
    "import matplotlib.pyplot as plt\n",
    "import matplotlib.image as mpimg\n",
    "from wordcloud import WordCloud\n",
    "import seaborn as sns\n",
    "import warnings\n",
    "from sklearn.feature_extraction.text import CountVectorizer\n",
    "warnings.filterwarnings(\"ignore\", category= FutureWarning)\n",
    "%matplotlib inline"
   ]
  },
  {
   "cell_type": "code",
   "execution_count": 2,
   "id": "ca3a21b4",
   "metadata": {},
   "outputs": [
    {
     "data": {
      "text/html": [
       "<div>\n",
       "<style scoped>\n",
       "    .dataframe tbody tr th:only-of-type {\n",
       "        vertical-align: middle;\n",
       "    }\n",
       "\n",
       "    .dataframe tbody tr th {\n",
       "        vertical-align: top;\n",
       "    }\n",
       "\n",
       "    .dataframe thead th {\n",
       "        text-align: right;\n",
       "    }\n",
       "</style>\n",
       "<table border=\"1\" class=\"dataframe\">\n",
       "  <thead>\n",
       "    <tr style=\"text-align: right;\">\n",
       "      <th></th>\n",
       "      <th>show_id</th>\n",
       "      <th>type</th>\n",
       "      <th>title</th>\n",
       "      <th>director</th>\n",
       "      <th>cast</th>\n",
       "      <th>country</th>\n",
       "      <th>date_added</th>\n",
       "      <th>release_year</th>\n",
       "      <th>rating</th>\n",
       "      <th>duration</th>\n",
       "      <th>listed_in</th>\n",
       "      <th>description</th>\n",
       "    </tr>\n",
       "  </thead>\n",
       "  <tbody>\n",
       "    <tr>\n",
       "      <th>0</th>\n",
       "      <td>s1</td>\n",
       "      <td>Movie</td>\n",
       "      <td>Dick Johnson Is Dead</td>\n",
       "      <td>Kirsten Johnson</td>\n",
       "      <td>NaN</td>\n",
       "      <td>United States</td>\n",
       "      <td>2021-09-25</td>\n",
       "      <td>2020</td>\n",
       "      <td>PG-13</td>\n",
       "      <td>90 min</td>\n",
       "      <td>Documentaries</td>\n",
       "      <td>As her father nears the end of his life, filmm...</td>\n",
       "    </tr>\n",
       "    <tr>\n",
       "      <th>1</th>\n",
       "      <td>s2</td>\n",
       "      <td>TV Show</td>\n",
       "      <td>Blood &amp; Water</td>\n",
       "      <td>NaN</td>\n",
       "      <td>Ama Qamata, Khosi Ngema, Gail Mabalane, Thaban...</td>\n",
       "      <td>South Africa</td>\n",
       "      <td>2021-09-24</td>\n",
       "      <td>2021</td>\n",
       "      <td>TV-MA</td>\n",
       "      <td>2 Seasons</td>\n",
       "      <td>International TV Shows, TV Dramas, TV Mysteries</td>\n",
       "      <td>After crossing paths at a party, a Cape Town t...</td>\n",
       "    </tr>\n",
       "    <tr>\n",
       "      <th>2</th>\n",
       "      <td>s3</td>\n",
       "      <td>TV Show</td>\n",
       "      <td>Ganglands</td>\n",
       "      <td>Julien Leclercq</td>\n",
       "      <td>Sami Bouajila, Tracy Gotoas, Samuel Jouy, Nabi...</td>\n",
       "      <td>NaN</td>\n",
       "      <td>2021-09-24</td>\n",
       "      <td>2021</td>\n",
       "      <td>TV-MA</td>\n",
       "      <td>1 Season</td>\n",
       "      <td>Crime TV Shows, International TV Shows, TV Act...</td>\n",
       "      <td>To protect his family from a powerful drug lor...</td>\n",
       "    </tr>\n",
       "    <tr>\n",
       "      <th>3</th>\n",
       "      <td>s4</td>\n",
       "      <td>TV Show</td>\n",
       "      <td>Jailbirds New Orleans</td>\n",
       "      <td>NaN</td>\n",
       "      <td>NaN</td>\n",
       "      <td>NaN</td>\n",
       "      <td>2021-09-24</td>\n",
       "      <td>2021</td>\n",
       "      <td>TV-MA</td>\n",
       "      <td>1 Season</td>\n",
       "      <td>Docuseries, Reality TV</td>\n",
       "      <td>Feuds, flirtations and toilet talk go down amo...</td>\n",
       "    </tr>\n",
       "    <tr>\n",
       "      <th>4</th>\n",
       "      <td>s5</td>\n",
       "      <td>TV Show</td>\n",
       "      <td>Kota Factory</td>\n",
       "      <td>NaN</td>\n",
       "      <td>Mayur More, Jitendra Kumar, Ranjan Raj, Alam K...</td>\n",
       "      <td>India</td>\n",
       "      <td>2021-09-24</td>\n",
       "      <td>2021</td>\n",
       "      <td>TV-MA</td>\n",
       "      <td>2 Seasons</td>\n",
       "      <td>International TV Shows, Romantic TV Shows, TV ...</td>\n",
       "      <td>In a city of coaching centers known to train I...</td>\n",
       "    </tr>\n",
       "  </tbody>\n",
       "</table>\n",
       "</div>"
      ],
      "text/plain": [
       "  show_id     type                  title         director  \\\n",
       "0      s1    Movie   Dick Johnson Is Dead  Kirsten Johnson   \n",
       "1      s2  TV Show          Blood & Water              NaN   \n",
       "2      s3  TV Show              Ganglands  Julien Leclercq   \n",
       "3      s4  TV Show  Jailbirds New Orleans              NaN   \n",
       "4      s5  TV Show           Kota Factory              NaN   \n",
       "\n",
       "                                                cast        country  \\\n",
       "0                                                NaN  United States   \n",
       "1  Ama Qamata, Khosi Ngema, Gail Mabalane, Thaban...   South Africa   \n",
       "2  Sami Bouajila, Tracy Gotoas, Samuel Jouy, Nabi...            NaN   \n",
       "3                                                NaN            NaN   \n",
       "4  Mayur More, Jitendra Kumar, Ranjan Raj, Alam K...          India   \n",
       "\n",
       "  date_added  release_year rating   duration  \\\n",
       "0 2021-09-25          2020  PG-13     90 min   \n",
       "1 2021-09-24          2021  TV-MA  2 Seasons   \n",
       "2 2021-09-24          2021  TV-MA   1 Season   \n",
       "3 2021-09-24          2021  TV-MA   1 Season   \n",
       "4 2021-09-24          2021  TV-MA  2 Seasons   \n",
       "\n",
       "                                           listed_in  \\\n",
       "0                                      Documentaries   \n",
       "1    International TV Shows, TV Dramas, TV Mysteries   \n",
       "2  Crime TV Shows, International TV Shows, TV Act...   \n",
       "3                             Docuseries, Reality TV   \n",
       "4  International TV Shows, Romantic TV Shows, TV ...   \n",
       "\n",
       "                                         description  \n",
       "0  As her father nears the end of his life, filmm...  \n",
       "1  After crossing paths at a party, a Cape Town t...  \n",
       "2  To protect his family from a powerful drug lor...  \n",
       "3  Feuds, flirtations and toilet talk go down amo...  \n",
       "4  In a city of coaching centers known to train I...  "
      ]
     },
     "execution_count": 2,
     "metadata": {},
     "output_type": "execute_result"
    }
   ],
   "source": [
    "# Carregando o dataset\n",
    "\n",
    "df = pd.read_csv('netflix_titles.csv', sep=',')\n",
    "\n",
    "# Configurando a coluna date_added\n",
    "\n",
    "df[\"date_added\"] = pd.to_datetime(df['date_added'])\n",
    "\n",
    "# Visualizando as primeiras linhas\n",
    "\n",
    "df.head()"
   ]
  },
  {
   "cell_type": "markdown",
   "id": "998698c0",
   "metadata": {},
   "source": [
    "## Tratamento de valores ausentes"
   ]
  },
  {
   "cell_type": "code",
   "execution_count": 3,
   "id": "5de93604",
   "metadata": {
    "scrolled": true
   },
   "outputs": [
    {
     "name": "stdout",
     "output_type": "stream",
     "text": [
      "director null rate: 29.91%\n",
      "cast null rate: 9.37%\n",
      "country null rate: 9.44%\n",
      "date_added null rate: 0.11%\n",
      "rating null rate: 0.05%\n",
      "duration null rate: 0.03%\n"
     ]
    }
   ],
   "source": [
    "# Verificando possíveis valores ausentes \n",
    "\n",
    "for i in df.columns:\n",
    "    null_rate = df[i].isna().sum() / len(df) * 100 \n",
    "    if null_rate > 0 :\n",
    "        print('{} null rate: {}%'.format(i,round(null_rate,2)))"
   ]
  },
  {
   "cell_type": "code",
   "execution_count": 4,
   "id": "0f0cc0b2",
   "metadata": {},
   "outputs": [],
   "source": [
    "# Substituindo valores nulos \n",
    "\n",
    "df['cast'].replace(np.nan, 'No Data',inplace  = True)\n",
    "df['director'].replace(np.nan, 'No Data',inplace  = True)\n",
    "\n",
    "# Retirando valores nulos\n",
    "\n",
    "df.dropna(inplace=True)\n",
    "\n",
    "# Retirando valores duplicados\n",
    "\n",
    "df.drop_duplicates(inplace= True)"
   ]
  },
  {
   "cell_type": "code",
   "execution_count": 5,
   "id": "c58dcfde",
   "metadata": {},
   "outputs": [
    {
     "data": {
      "text/plain": [
       "show_id         0\n",
       "type            0\n",
       "title           0\n",
       "director        0\n",
       "cast            0\n",
       "country         0\n",
       "date_added      0\n",
       "release_year    0\n",
       "rating          0\n",
       "duration        0\n",
       "listed_in       0\n",
       "description     0\n",
       "dtype: int64"
      ]
     },
     "execution_count": 5,
     "metadata": {},
     "output_type": "execute_result"
    }
   ],
   "source": [
    "# Verificando valores ausentes \n",
    "\n",
    "df.isnull().sum()"
   ]
  },
  {
   "cell_type": "code",
   "execution_count": 6,
   "id": "43ca6cf7",
   "metadata": {},
   "outputs": [
    {
     "name": "stdout",
     "output_type": "stream",
     "text": [
      "\n",
      "Tamanho do dataset:\n",
      "Entradas: 7961\n",
      "Atributos: 12\n"
     ]
    },
    {
     "data": {
      "text/plain": [
       "show_id                 object\n",
       "type                    object\n",
       "title                   object\n",
       "director                object\n",
       "cast                    object\n",
       "country                 object\n",
       "date_added      datetime64[ns]\n",
       "release_year             int64\n",
       "rating                  object\n",
       "duration                object\n",
       "listed_in               object\n",
       "description             object\n",
       "dtype: object"
      ]
     },
     "execution_count": 6,
     "metadata": {},
     "output_type": "execute_result"
    }
   ],
   "source": [
    "# Obtendo informações sobre o tipo das variáveis do dataset\n",
    "\n",
    "print(\"\\nTamanho do dataset:\")\n",
    "print(f'Entradas: {df.shape[0]}')\n",
    "print(f'Atributos: {df.shape[1]}')\n",
    "df.dtypes"
   ]
  },
  {
   "cell_type": "markdown",
   "id": "fdeaf47d",
   "metadata": {},
   "source": [
    "## Visualização dos dados "
   ]
  },
  {
   "cell_type": "markdown",
   "id": "7505501d",
   "metadata": {},
   "source": [
    "###  1. Distribuição dos títulos em Filmes e Séries\n",
    "\n",
    "Porcentagem da distribuição dos títulos nas categorias 'Movie' e 'TV Show'"
   ]
  },
  {
   "cell_type": "code",
   "execution_count": 7,
   "id": "c18a56d0",
   "metadata": {
    "scrolled": true
   },
   "outputs": [
    {
     "data": {
      "image/png": "[encoded data removed]",
      "text/plain": [
       "<Figure size 432x288 with 1 Axes>"
      ]
     },
     "metadata": {},
     "output_type": "display_data"
    }
   ],
   "source": [
    "#Distribuição dos Títulos em 'Movie' e 'TV Show'\n",
    "\n",
    "x=df.groupby(['type'])['type'].count()\n",
    "colors=['#b20710','#4b4d4b']\n",
    "x.plot(kind='pie', autopct=\"%1.1f%%\", explode=[0,0.07], colors=colors, textprops=dict(color=\"w\", size=13), radius=1.1)\n",
    "plt.legend(bbox_to_anchor=(1.1,0.5), loc=\"center left\", borderaxespad=0, fontsize=12)\n",
    "plt.title(\"Gráfico 1: Distribuição dos Títulos em 'Movie' e 'TV Show'\", fontsize=13)\n",
    "plt.axis('off');"
   ]
  },
  {
   "cell_type": "markdown",
   "id": "9ca05932",
   "metadata": {},
   "source": [
    "O gráfico mostra que aproximadamente 71.4% dos títulos disponíveis na plataforma são filmes e 28.6% são programas de tv / seriados."
   ]
  },
  {
   "cell_type": "markdown",
   "id": "e32796c2",
   "metadata": {},
   "source": [
    "### 2. Distribuição dos títulos por País\n",
    "\n",
    "Distribuição dos títulos por País. Qual o país de origem das produções disponíveis na plataforma ?"
   ]
  },
  {
   "cell_type": "code",
   "execution_count": 8,
   "id": "fa96f69f",
   "metadata": {},
   "outputs": [],
   "source": [
    "#Selecionando apenas o primeiro país listado\n",
    "\n",
    "df['first_country'] = df['country'].apply(lambda x: x.split(\",\")[0])\n",
    "\n",
    "df['first_country'].replace('United States', 'USA', inplace=True)\n",
    "df['first_country'].replace('United Kingdom', 'UK',inplace=True)"
   ]
  },
  {
   "cell_type": "code",
   "execution_count": 9,
   "id": "25df3856",
   "metadata": {},
   "outputs": [
    {
     "name": "stdout",
     "output_type": "stream",
     "text": [
      "\n",
      "Tabela 1: Distribuição dos Países que apresentam mais produções na Netflix\n"
     ]
    },
    {
     "data": {
      "text/html": [
       "<div>\n",
       "<style scoped>\n",
       "    .dataframe tbody tr th:only-of-type {\n",
       "        vertical-align: middle;\n",
       "    }\n",
       "\n",
       "    .dataframe tbody tr th {\n",
       "        vertical-align: top;\n",
       "    }\n",
       "\n",
       "    .dataframe thead th {\n",
       "        text-align: right;\n",
       "    }\n",
       "</style>\n",
       "<table border=\"1\" class=\"dataframe\">\n",
       "  <thead>\n",
       "    <tr style=\"text-align: right;\">\n",
       "      <th></th>\n",
       "      <th>total</th>\n",
       "      <th>(%)</th>\n",
       "    </tr>\n",
       "    <tr>\n",
       "      <th>first_country</th>\n",
       "      <th></th>\n",
       "      <th></th>\n",
       "    </tr>\n",
       "  </thead>\n",
       "  <tbody>\n",
       "    <tr>\n",
       "      <th>USA</th>\n",
       "      <td>3202.0</td>\n",
       "      <td>40.22</td>\n",
       "    </tr>\n",
       "    <tr>\n",
       "      <th>India</th>\n",
       "      <td>1008.0</td>\n",
       "      <td>12.66</td>\n",
       "    </tr>\n",
       "    <tr>\n",
       "      <th>UK</th>\n",
       "      <td>627.0</td>\n",
       "      <td>7.88</td>\n",
       "    </tr>\n",
       "    <tr>\n",
       "      <th>Canada</th>\n",
       "      <td>271.0</td>\n",
       "      <td>3.40</td>\n",
       "    </tr>\n",
       "    <tr>\n",
       "      <th>Japan</th>\n",
       "      <td>257.0</td>\n",
       "      <td>3.23</td>\n",
       "    </tr>\n",
       "    <tr>\n",
       "      <th>...</th>\n",
       "      <td>...</td>\n",
       "      <td>...</td>\n",
       "    </tr>\n",
       "    <tr>\n",
       "      <th>Namibia</th>\n",
       "      <td>1.0</td>\n",
       "      <td>0.01</td>\n",
       "    </tr>\n",
       "    <tr>\n",
       "      <th>Somalia</th>\n",
       "      <td>1.0</td>\n",
       "      <td>0.01</td>\n",
       "    </tr>\n",
       "    <tr>\n",
       "      <th>Slovenia</th>\n",
       "      <td>1.0</td>\n",
       "      <td>0.01</td>\n",
       "    </tr>\n",
       "    <tr>\n",
       "      <th>Paraguay</th>\n",
       "      <td>1.0</td>\n",
       "      <td>0.01</td>\n",
       "    </tr>\n",
       "    <tr>\n",
       "      <th>Zimbabwe</th>\n",
       "      <td>1.0</td>\n",
       "      <td>0.01</td>\n",
       "    </tr>\n",
       "  </tbody>\n",
       "</table>\n",
       "<p>86 rows × 2 columns</p>\n",
       "</div>"
      ],
      "text/plain": [
       "                total    (%)\n",
       "first_country               \n",
       "USA            3202.0  40.22\n",
       "India          1008.0  12.66\n",
       "UK              627.0   7.88\n",
       "Canada          271.0   3.40\n",
       "Japan           257.0   3.23\n",
       "...               ...    ...\n",
       "Namibia           1.0   0.01\n",
       "Somalia           1.0   0.01\n",
       "Slovenia          1.0   0.01\n",
       "Paraguay          1.0   0.01\n",
       "Zimbabwe          1.0   0.01\n",
       "\n",
       "[86 rows x 2 columns]"
      ]
     },
     "execution_count": 9,
     "metadata": {},
     "output_type": "execute_result"
    }
   ],
   "source": [
    "# Tabela de frequência absoluta e relativa da variável country\n",
    "\n",
    "c_ab = df.groupby('first_country')['first_country'].count().sort_values(ascending=False)\n",
    "c_rel = ((df.groupby('first_country')['first_country'].count())/df.shape[0]).sort_values(ascending =False)\n",
    "ctable = pd.DataFrame((c_ab,c_rel*100), index=['total','(%)']).transpose().round(2)  \n",
    "\n",
    "# Distribuição dos Países que apresentam mais produções na Netflix\n",
    "print(\"\\nTabela 1: Distribuição dos Países que apresentam mais produções na Netflix\")\n",
    "ctable"
   ]
  },
  {
   "cell_type": "code",
   "execution_count": 10,
   "id": "e6e2fb75",
   "metadata": {},
   "outputs": [
    {
     "data": {
      "image/png": "[encoded data removed]",
      "text/plain": [
       "<Figure size 720x360 with 1 Axes>"
      ]
     },
     "metadata": {
      "needs_background": "light"
     },
     "output_type": "display_data"
    }
   ],
   "source": [
    "# Distribuição dos Países que apresentam mais produções na Netflix\n",
    "\n",
    "fig,ax = plt.subplots(figsize=(10,5))\n",
    "ax = c_ab.head(10).plot(kind='bar', width=0.6, color='#b20710', edgecolor='black')\n",
    "for p in ax.patches:\n",
    "        ax.annotate('{:.0f}'.format(p.get_height()), (p.get_x()+0.3, p.get_height()+20),\n",
    "                    ha='center', va='bottom',\n",
    "                    color= 'black')\n",
    "        \n",
    "plt.title('\\nGráfico 2: Distribuição dos Países que apresentam mais produções na Netflix\\n',fontsize=13)\n",
    "plt.xlabel('')\n",
    "plt.xticks(rotation=0)\n",
    "plt.yticks([])\n",
    "ax.spines['top'].set_visible(False)\n",
    "ax.spines['right'].set_visible(False)\n",
    "ax.spines['left'].set_visible(False);"
   ]
  },
  {
   "cell_type": "markdown",
   "id": "e01d1585",
   "metadata": {},
   "source": [
    "A tabela 1 e o Gráfico 2 mostram que a maioria das produções disponíveis na Netflix são de origem americana com 3202 títulos (40.22 %), com produções Indianas e Inglesas vindo logo atrás."
   ]
  },
  {
   "cell_type": "markdown",
   "id": "84b8853a",
   "metadata": {},
   "source": [
    "### 3. Distribuição dos títulos por Gênero \n",
    "\n",
    "Qual o gênero mais comum nos filmes disponíveis na plataforma ? E o gênero nos programas de tv/seriados ?\n",
    "### 3.1. Categoria: Filme "
   ]
  },
  {
   "cell_type": "code",
   "execution_count": 11,
   "id": "cc0d2673",
   "metadata": {},
   "outputs": [],
   "source": [
    "df['listed_in'] = df['listed_in'].str.split(', ')"
   ]
  },
  {
   "cell_type": "code",
   "execution_count": 12,
   "id": "4c39f84f",
   "metadata": {},
   "outputs": [],
   "source": [
    "df[['category1','category2', 'category3']] = pd.DataFrame(df.listed_in.tolist(),index= df.index)"
   ]
  },
  {
   "cell_type": "code",
   "execution_count": 13,
   "id": "8f525cd6",
   "metadata": {},
   "outputs": [
    {
     "data": {
      "text/html": [
       "<div>\n",
       "<style scoped>\n",
       "    .dataframe tbody tr th:only-of-type {\n",
       "        vertical-align: middle;\n",
       "    }\n",
       "\n",
       "    .dataframe tbody tr th {\n",
       "        vertical-align: top;\n",
       "    }\n",
       "\n",
       "    .dataframe thead th {\n",
       "        text-align: right;\n",
       "    }\n",
       "</style>\n",
       "<table border=\"1\" class=\"dataframe\">\n",
       "  <thead>\n",
       "    <tr style=\"text-align: right;\">\n",
       "      <th></th>\n",
       "      <th>type</th>\n",
       "      <th>category1</th>\n",
       "      <th>category2</th>\n",
       "      <th>category3</th>\n",
       "    </tr>\n",
       "  </thead>\n",
       "  <tbody>\n",
       "    <tr>\n",
       "      <th>0</th>\n",
       "      <td>Movie</td>\n",
       "      <td>Documentaries</td>\n",
       "      <td>None</td>\n",
       "      <td>None</td>\n",
       "    </tr>\n",
       "    <tr>\n",
       "      <th>1</th>\n",
       "      <td>TV Show</td>\n",
       "      <td>International TV Shows</td>\n",
       "      <td>TV Dramas</td>\n",
       "      <td>TV Mysteries</td>\n",
       "    </tr>\n",
       "    <tr>\n",
       "      <th>4</th>\n",
       "      <td>TV Show</td>\n",
       "      <td>International TV Shows</td>\n",
       "      <td>Romantic TV Shows</td>\n",
       "      <td>TV Comedies</td>\n",
       "    </tr>\n",
       "    <tr>\n",
       "      <th>7</th>\n",
       "      <td>Movie</td>\n",
       "      <td>Dramas</td>\n",
       "      <td>Independent Movies</td>\n",
       "      <td>International Movies</td>\n",
       "    </tr>\n",
       "    <tr>\n",
       "      <th>8</th>\n",
       "      <td>TV Show</td>\n",
       "      <td>British TV Shows</td>\n",
       "      <td>Reality TV</td>\n",
       "      <td>None</td>\n",
       "    </tr>\n",
       "    <tr>\n",
       "      <th>...</th>\n",
       "      <td>...</td>\n",
       "      <td>...</td>\n",
       "      <td>...</td>\n",
       "      <td>...</td>\n",
       "    </tr>\n",
       "    <tr>\n",
       "      <th>8801</th>\n",
       "      <td>Movie</td>\n",
       "      <td>Dramas</td>\n",
       "      <td>International Movies</td>\n",
       "      <td>Thrillers</td>\n",
       "    </tr>\n",
       "    <tr>\n",
       "      <th>8802</th>\n",
       "      <td>Movie</td>\n",
       "      <td>Cult Movies</td>\n",
       "      <td>Dramas</td>\n",
       "      <td>Thrillers</td>\n",
       "    </tr>\n",
       "    <tr>\n",
       "      <th>8804</th>\n",
       "      <td>Movie</td>\n",
       "      <td>Comedies</td>\n",
       "      <td>Horror Movies</td>\n",
       "      <td>None</td>\n",
       "    </tr>\n",
       "    <tr>\n",
       "      <th>8805</th>\n",
       "      <td>Movie</td>\n",
       "      <td>Children &amp; Family Movies</td>\n",
       "      <td>Comedies</td>\n",
       "      <td>None</td>\n",
       "    </tr>\n",
       "    <tr>\n",
       "      <th>8806</th>\n",
       "      <td>Movie</td>\n",
       "      <td>Dramas</td>\n",
       "      <td>International Movies</td>\n",
       "      <td>Music &amp; Musicals</td>\n",
       "    </tr>\n",
       "  </tbody>\n",
       "</table>\n",
       "<p>7961 rows × 4 columns</p>\n",
       "</div>"
      ],
      "text/plain": [
       "         type                 category1             category2  \\\n",
       "0       Movie             Documentaries                  None   \n",
       "1     TV Show    International TV Shows             TV Dramas   \n",
       "4     TV Show    International TV Shows     Romantic TV Shows   \n",
       "7       Movie                    Dramas    Independent Movies   \n",
       "8     TV Show          British TV Shows            Reality TV   \n",
       "...       ...                       ...                   ...   \n",
       "8801    Movie                    Dramas  International Movies   \n",
       "8802    Movie               Cult Movies                Dramas   \n",
       "8804    Movie                  Comedies         Horror Movies   \n",
       "8805    Movie  Children & Family Movies              Comedies   \n",
       "8806    Movie                    Dramas  International Movies   \n",
       "\n",
       "                 category3  \n",
       "0                     None  \n",
       "1             TV Mysteries  \n",
       "4              TV Comedies  \n",
       "7     International Movies  \n",
       "8                     None  \n",
       "...                    ...  \n",
       "8801             Thrillers  \n",
       "8802             Thrillers  \n",
       "8804                  None  \n",
       "8805                  None  \n",
       "8806      Music & Musicals  \n",
       "\n",
       "[7961 rows x 4 columns]"
      ]
     },
     "execution_count": 13,
     "metadata": {},
     "output_type": "execute_result"
    }
   ],
   "source": [
    "netflix_categories_content = df[['type', 'category1','category2', 'category3']]\n",
    "netflix_categories_content"
   ]
  },
  {
   "cell_type": "code",
   "execution_count": 14,
   "id": "7e2bf93f",
   "metadata": {},
   "outputs": [
    {
     "data": {
      "text/plain": [
       "type                             \n",
       "Movie    Action & Adventure          817.0\n",
       "         Anime Features               63.0\n",
       "         Anime Series                  0.0\n",
       "         British TV Shows              0.0\n",
       "         Children & Family Movies    535.0\n",
       "                                     ...  \n",
       "TV Show  Korean TV Shows             136.0\n",
       "         Science & Nature TV          82.0\n",
       "         TV Mysteries                 92.0\n",
       "         TV Thrillers                 53.0\n",
       "         Teen TV Shows                66.0\n",
       "Length: 84, dtype: float64"
      ]
     },
     "execution_count": 14,
     "metadata": {},
     "output_type": "execute_result"
    }
   ],
   "source": [
    "netflix_categories_group= pd.get_dummies(netflix_categories_content.set_index('type'), prefix='',prefix_sep='').stack().sum(level=[0,1])\n",
    "netflix_categories_group"
   ]
  },
  {
   "cell_type": "code",
   "execution_count": 15,
   "id": "0950909d",
   "metadata": {},
   "outputs": [
    {
     "name": "stdout",
     "output_type": "stream",
     "text": [
      "\n",
      "Tabela 2: Número total de filmes por Gênero\n"
     ]
    },
    {
     "data": {
      "text/html": [
       "<div>\n",
       "<style scoped>\n",
       "    .dataframe tbody tr th:only-of-type {\n",
       "        vertical-align: middle;\n",
       "    }\n",
       "\n",
       "    .dataframe tbody tr th {\n",
       "        vertical-align: top;\n",
       "    }\n",
       "\n",
       "    .dataframe thead th {\n",
       "        text-align: right;\n",
       "    }\n",
       "</style>\n",
       "<table border=\"1\" class=\"dataframe\">\n",
       "  <thead>\n",
       "    <tr style=\"text-align: right;\">\n",
       "      <th></th>\n",
       "      <th>total</th>\n",
       "      <th>(%)</th>\n",
       "    </tr>\n",
       "  </thead>\n",
       "  <tbody>\n",
       "    <tr>\n",
       "      <th>International Movies</th>\n",
       "      <td>2543.0</td>\n",
       "      <td>31.94</td>\n",
       "    </tr>\n",
       "    <tr>\n",
       "      <th>Dramas</th>\n",
       "      <td>2316.0</td>\n",
       "      <td>29.09</td>\n",
       "    </tr>\n",
       "    <tr>\n",
       "      <th>Comedies</th>\n",
       "      <td>1580.0</td>\n",
       "      <td>19.85</td>\n",
       "    </tr>\n",
       "    <tr>\n",
       "      <th>Action &amp; Adventure</th>\n",
       "      <td>817.0</td>\n",
       "      <td>10.26</td>\n",
       "    </tr>\n",
       "    <tr>\n",
       "      <th>Documentaries</th>\n",
       "      <td>794.0</td>\n",
       "      <td>9.97</td>\n",
       "    </tr>\n",
       "    <tr>\n",
       "      <th>Independent Movies</th>\n",
       "      <td>745.0</td>\n",
       "      <td>9.36</td>\n",
       "    </tr>\n",
       "    <tr>\n",
       "      <th>Romantic Movies</th>\n",
       "      <td>588.0</td>\n",
       "      <td>7.39</td>\n",
       "    </tr>\n",
       "    <tr>\n",
       "      <th>Thrillers</th>\n",
       "      <td>549.0</td>\n",
       "      <td>6.90</td>\n",
       "    </tr>\n",
       "    <tr>\n",
       "      <th>Children &amp; Family Movies</th>\n",
       "      <td>535.0</td>\n",
       "      <td>6.72</td>\n",
       "    </tr>\n",
       "    <tr>\n",
       "      <th>Horror Movies</th>\n",
       "      <td>340.0</td>\n",
       "      <td>4.27</td>\n",
       "    </tr>\n",
       "  </tbody>\n",
       "</table>\n",
       "</div>"
      ],
      "text/plain": [
       "                           total    (%)\n",
       "International Movies      2543.0  31.94\n",
       "Dramas                    2316.0  29.09\n",
       "Comedies                  1580.0  19.85\n",
       "Action & Adventure         817.0  10.26\n",
       "Documentaries              794.0   9.97\n",
       "Independent Movies         745.0   9.36\n",
       "Romantic Movies            588.0   7.39\n",
       "Thrillers                  549.0   6.90\n",
       "Children & Family Movies   535.0   6.72\n",
       "Horror Movies              340.0   4.27"
      ]
     },
     "execution_count": 15,
     "metadata": {},
     "output_type": "execute_result"
    }
   ],
   "source": [
    "# Número total de filmes por gênero\n",
    "\n",
    "genre_movie = netflix_categories_group['Movie'].sort_values(ascending=False).head(10)\n",
    "genre_movie_rel = (netflix_categories_group['Movie'].sort_values(ascending=False).head(10)/df.shape[0])\n",
    "gmtable = pd.DataFrame((genre_movie,genre_movie_rel*100), index=['total','(%)']).transpose().round(2)                 \n",
    "\n",
    "print('\\nTabela 2: Número total de filmes por Gênero')\n",
    "gmtable"
   ]
  },
  {
   "cell_type": "code",
   "execution_count": 16,
   "id": "f14d472e",
   "metadata": {},
   "outputs": [
    {
     "data": {
      "image/png": "[encoded data removed]",
      "text/plain": [
       "<Figure size 504x360 with 1 Axes>"
      ]
     },
     "metadata": {
      "needs_background": "light"
     },
     "output_type": "display_data"
    }
   ],
   "source": [
    "#Top 10 Gêneros mais comuns em filmes \n",
    "\n",
    "\n",
    "plt.figure(figsize=(7, 5))\n",
    "\n",
    "ax = genre_movie.sort_values().plot(kind='barh', width=0.7, color='#b20710', edgecolor='black')\n",
    "\n",
    "for p in ax.patches:\n",
    "                _x = p.get_width() + float (30)\n",
    "                _y = p.get_y() + p.get_height()/2\n",
    "                value = int(p.get_width())\n",
    "                ax.text(_x, _y, value, va='center')\n",
    "                \n",
    "plt.title('\\nGráfico 3: Top 10 Gêneros mais comuns nos Filmes disponíveis na Netflix\\n', fontsize=13)\n",
    "plt.xticks([])\n",
    "ax.spines['top'].set_visible(False)\n",
    "ax.spines['right'].set_visible(False)\n",
    "ax.spines['bottom'].set_visible(False);"
   ]
  },
  {
   "cell_type": "markdown",
   "id": "c138704b",
   "metadata": {},
   "source": [
    "Top 5 Gêneros mais comuns nos filmes disponíveis na Netflix\n",
    "\n",
    "* 1º - Filmes Internacionais - 2543 títulos (31.94%)\n",
    "* 2º - Drama - 2316\ttítulos (29.09%)\n",
    "* 3º - Comédia - 1580 títulos (19.85 %)\n",
    "* 4º - Ação e Aventura - 817 títulos (10.26%)\n",
    "* 5º - Documentário - 794 títulos (9.97%)"
   ]
  },
  {
   "cell_type": "markdown",
   "id": "79b5dc83",
   "metadata": {},
   "source": [
    "### 3.2. Categoria: Programas de TV / Seriados "
   ]
  },
  {
   "cell_type": "code",
   "execution_count": 17,
   "id": "b0088813",
   "metadata": {},
   "outputs": [
    {
     "name": "stdout",
     "output_type": "stream",
     "text": [
      "\n",
      "Tabela 3: Número total de Programas de TV / Seriados por Gênero\n"
     ]
    },
    {
     "data": {
      "text/html": [
       "<div>\n",
       "<style scoped>\n",
       "    .dataframe tbody tr th:only-of-type {\n",
       "        vertical-align: middle;\n",
       "    }\n",
       "\n",
       "    .dataframe tbody tr th {\n",
       "        vertical-align: top;\n",
       "    }\n",
       "\n",
       "    .dataframe thead th {\n",
       "        text-align: right;\n",
       "    }\n",
       "</style>\n",
       "<table border=\"1\" class=\"dataframe\">\n",
       "  <thead>\n",
       "    <tr style=\"text-align: right;\">\n",
       "      <th></th>\n",
       "      <th>total</th>\n",
       "      <th>(%)</th>\n",
       "    </tr>\n",
       "  </thead>\n",
       "  <tbody>\n",
       "    <tr>\n",
       "      <th>International TV Shows</th>\n",
       "      <td>1126.0</td>\n",
       "      <td>14.14</td>\n",
       "    </tr>\n",
       "    <tr>\n",
       "      <th>TV Dramas</th>\n",
       "      <td>662.0</td>\n",
       "      <td>8.32</td>\n",
       "    </tr>\n",
       "    <tr>\n",
       "      <th>TV Comedies</th>\n",
       "      <td>493.0</td>\n",
       "      <td>6.19</td>\n",
       "    </tr>\n",
       "    <tr>\n",
       "      <th>Crime TV Shows</th>\n",
       "      <td>420.0</td>\n",
       "      <td>5.28</td>\n",
       "    </tr>\n",
       "    <tr>\n",
       "      <th>Kids' TV</th>\n",
       "      <td>368.0</td>\n",
       "      <td>4.62</td>\n",
       "    </tr>\n",
       "    <tr>\n",
       "      <th>Docuseries</th>\n",
       "      <td>329.0</td>\n",
       "      <td>4.13</td>\n",
       "    </tr>\n",
       "    <tr>\n",
       "      <th>Romantic TV Shows</th>\n",
       "      <td>299.0</td>\n",
       "      <td>3.76</td>\n",
       "    </tr>\n",
       "    <tr>\n",
       "      <th>British TV Shows</th>\n",
       "      <td>236.0</td>\n",
       "      <td>2.96</td>\n",
       "    </tr>\n",
       "    <tr>\n",
       "      <th>Reality TV</th>\n",
       "      <td>205.0</td>\n",
       "      <td>2.58</td>\n",
       "    </tr>\n",
       "    <tr>\n",
       "      <th>Anime Series</th>\n",
       "      <td>152.0</td>\n",
       "      <td>1.91</td>\n",
       "    </tr>\n",
       "  </tbody>\n",
       "</table>\n",
       "</div>"
      ],
      "text/plain": [
       "                         total    (%)\n",
       "International TV Shows  1126.0  14.14\n",
       "TV Dramas                662.0   8.32\n",
       "TV Comedies              493.0   6.19\n",
       "Crime TV Shows           420.0   5.28\n",
       "Kids' TV                 368.0   4.62\n",
       "Docuseries               329.0   4.13\n",
       "Romantic TV Shows        299.0   3.76\n",
       "British TV Shows         236.0   2.96\n",
       "Reality TV               205.0   2.58\n",
       "Anime Series             152.0   1.91"
      ]
     },
     "execution_count": 17,
     "metadata": {},
     "output_type": "execute_result"
    }
   ],
   "source": [
    "# Número total de Programas de TV / Seriados por gênero\n",
    "\n",
    "genre_tv = netflix_categories_group['TV Show'].sort_values(ascending=False).head(10)\n",
    "genre_tv_rel = (netflix_categories_group['TV Show'].sort_values(ascending=False).head(10)/df.shape[0])\n",
    "gtvtable = pd.DataFrame((genre_tv,genre_tv_rel*100), index=['total','(%)']).transpose().round(2)                 \n",
    "\n",
    "print('\\nTabela 3: Número total de Programas de TV / Seriados por Gênero')\n",
    "\n",
    "gtvtable"
   ]
  },
  {
   "cell_type": "code",
   "execution_count": 46,
   "id": "61a7bbd3",
   "metadata": {},
   "outputs": [
    {
     "data": {
      "image/png": "[encoded data removed]",
      "text/plain": [
       "<Figure size 504x360 with 1 Axes>"
      ]
     },
     "metadata": {
      "needs_background": "light"
     },
     "output_type": "display_data"
    }
   ],
   "source": [
    "#Top 10 gêneros mais comuns nos Programas de TV / Seriados\n",
    "\n",
    "plt.figure(figsize=(7, 5))\n",
    "ax = genre_tv.sort_values().plot(kind='barh', width=0.7, color='#b20710', edgecolor='black')\n",
    "\n",
    "for p in ax.patches:\n",
    "                _x = p.get_width() + float (18)\n",
    "                _y = p.get_y() + p.get_height()/2\n",
    "                value = int(p.get_width())\n",
    "                ax.text(_x, _y, value, va='center')\n",
    "                \n",
    "plt.title('\\nGráfico 4: Top 10 Gêneros mais comuns nos Programas de TV / Seriados disponíveis na Netflix\\n', fontsize=13)\n",
    "plt.xticks([])\n",
    "ax.spines['top'].set_visible(False)\n",
    "ax.spines['right'].set_visible(False)\n",
    "ax.spines['bottom'].set_visible(False);"
   ]
  },
  {
   "cell_type": "markdown",
   "id": "cc4ec5df",
   "metadata": {},
   "source": [
    "Top 5 Gêneros mais comuns nos programas de tv / seriados disponíveis na Netflix\n",
    "\n",
    "* 1º - Programas de TV Internacionais - 1126 títulos (14.14%)\n",
    "* 2º - Drama - 662 títulos (8.32%)\n",
    "* 3º - Comédia - 493 títulos (6.19%)\n",
    "* 4º - Crime - 420 títulos (5.28%)\n",
    "* 5º - Infantil - 368 títulos (4.62%)"
   ]
  },
  {
   "cell_type": "markdown",
   "id": "b79522d7",
   "metadata": {},
   "source": [
    "### 4 . Tempo de Duração dos Filmes e Nº de temporadas dos Seriados\n",
    "### 4.1. Categoria: Filme "
   ]
  },
  {
   "cell_type": "code",
   "execution_count": 19,
   "id": "c1368b96",
   "metadata": {},
   "outputs": [],
   "source": []
  },
  {
   "cell_type": "code",
   "execution_count": 20,
   "id": "cb11e0bb",
   "metadata": {},
   "outputs": [
    {
     "data": {
      "image/png": "[encoded data removed]",
      "text/plain": [
       "<Figure size 504x360 with 1 Axes>"
      ]
     },
     "metadata": {
      "needs_background": "light"
     },
     "output_type": "display_data"
    }
   ],
   "source": [
    "# Gráfico histograma com a frequência da duração dos filmes\n",
    "\n",
    "movie_duration = df[df.type == 'Movie']['duration']\n",
    "\n",
    "fig,ax = plt.subplots(figsize=(7,5))\n",
    "\n",
    "movie_duration.plot(kind='hist', color='#b20710', edgecolor='black', bins=40)\n",
    "\n",
    "plt.title('\\nGráfico 5: Histograma do tempo de duração dos filmes disponíveis na Netflix\\n', fontsize=13)\n",
    "plt.xlabel('\\nDuração (minutos)')\n",
    "ax.spines['top'].set_visible(False)\n",
    "ax.spines['right'].set_visible(False);"
   ]
  },
  {
   "cell_type": "code",
   "execution_count": 21,
   "id": "c43ce139",
   "metadata": {},
   "outputs": [
    {
     "name": "stdout",
     "output_type": "stream",
     "text": [
      "\n",
      "Tabela 4: Medidas descritivas da variável duração na categoria Filme\n"
     ]
    },
    {
     "data": {
      "text/plain": [
       "count    5687.00\n",
       "mean      100.52\n",
       "std        27.12\n",
       "min         3.00\n",
       "25%        88.00\n",
       "50%        99.00\n",
       "75%       115.00\n",
       "max       312.00\n",
       "Name: duration, dtype: float64"
      ]
     },
     "execution_count": 21,
     "metadata": {},
     "output_type": "execute_result"
    }
   ],
   "source": [
    "# Medidas descritivas da variável Duração em relação aos filmes disponíveis\n",
    "\n",
    "print('\\nTabela 4: Medidas descritivas da variável duração na categoria Filme')\n",
    "movie_duration.describe().round(2)"
   ]
  },
  {
   "cell_type": "markdown",
   "id": "83b16c42",
   "metadata": {},
   "source": [
    "Pela tabela 4 e o gráfico 5, observa-se que os filmes disponíveis na plataforma têm em média 100 minutos. O título com duração máxima tem 312 minutos e o título com duração mínima tem 3 minutos"
   ]
  },
  {
   "cell_type": "markdown",
   "id": "59258cea",
   "metadata": {},
   "source": [
    "#### Filme com maior duração na plataforma"
   ]
  },
  {
   "cell_type": "code",
   "execution_count": 22,
   "id": "78a90996",
   "metadata": {},
   "outputs": [
    {
     "data": {
      "text/html": [
       "<div>\n",
       "<style scoped>\n",
       "    .dataframe tbody tr th:only-of-type {\n",
       "        vertical-align: middle;\n",
       "    }\n",
       "\n",
       "    .dataframe tbody tr th {\n",
       "        vertical-align: top;\n",
       "    }\n",
       "\n",
       "    .dataframe thead th {\n",
       "        text-align: right;\n",
       "    }\n",
       "</style>\n",
       "<table border=\"1\" class=\"dataframe\">\n",
       "  <thead>\n",
       "    <tr style=\"text-align: right;\">\n",
       "      <th></th>\n",
       "      <th>type</th>\n",
       "      <th>title</th>\n",
       "      <th>country</th>\n",
       "      <th>duration</th>\n",
       "      <th>release_year</th>\n",
       "    </tr>\n",
       "  </thead>\n",
       "  <tbody>\n",
       "    <tr>\n",
       "      <th>4253</th>\n",
       "      <td>Movie</td>\n",
       "      <td>Black Mirror: Bandersnatch</td>\n",
       "      <td>United States</td>\n",
       "      <td>312</td>\n",
       "      <td>2018</td>\n",
       "    </tr>\n",
       "  </tbody>\n",
       "</table>\n",
       "</div>"
      ],
      "text/plain": [
       "       type                       title        country  duration  release_year\n",
       "4253  Movie  Black Mirror: Bandersnatch  United States       312          2018"
      ]
     },
     "execution_count": 22,
     "metadata": {},
     "output_type": "execute_result"
    }
   ],
   "source": [
    "df[df.type == 'Movie'].sort_values(by='duration', ascending=False).head(1)[['type','title','country','duration','release_year']]"
   ]
  },
  {
   "cell_type": "markdown",
   "id": "56bb356d",
   "metadata": {},
   "source": [
    "O filme Black Mirror: Bandersnatch é um filme original Netflix e foi lançado em 2018. De acordo com o IMDB, o filme é do tipo interativo, tendo o telespectador a possibilidade de escolher para onde o enredo deve ir. Apesar de estar na plataforma com uma duração de 90 minutos, isso depende de como o telespectador decide assistir ao filme. O duração total incluindo todas as possíveis variações, com  5 finais diferentes, é de 5 horas 12 minutos e 13 segundos (512 minutos)."
   ]
  },
  {
   "cell_type": "markdown",
   "id": "7e634588",
   "metadata": {},
   "source": [
    "#### Filme com menor duração na plataforma"
   ]
  },
  {
   "cell_type": "code",
   "execution_count": 23,
   "id": "c45d6cef",
   "metadata": {},
   "outputs": [
    {
     "data": {
      "text/html": [
       "<div>\n",
       "<style scoped>\n",
       "    .dataframe tbody tr th:only-of-type {\n",
       "        vertical-align: middle;\n",
       "    }\n",
       "\n",
       "    .dataframe tbody tr th {\n",
       "        vertical-align: top;\n",
       "    }\n",
       "\n",
       "    .dataframe thead th {\n",
       "        text-align: right;\n",
       "    }\n",
       "</style>\n",
       "<table border=\"1\" class=\"dataframe\">\n",
       "  <thead>\n",
       "    <tr style=\"text-align: right;\">\n",
       "      <th></th>\n",
       "      <th>type</th>\n",
       "      <th>title</th>\n",
       "      <th>country</th>\n",
       "      <th>duration</th>\n",
       "      <th>release_year</th>\n",
       "    </tr>\n",
       "  </thead>\n",
       "  <tbody>\n",
       "    <tr>\n",
       "      <th>3777</th>\n",
       "      <td>Movie</td>\n",
       "      <td>Silent</td>\n",
       "      <td>United States</td>\n",
       "      <td>3</td>\n",
       "      <td>2014</td>\n",
       "    </tr>\n",
       "  </tbody>\n",
       "</table>\n",
       "</div>"
      ],
      "text/plain": [
       "       type   title        country  duration  release_year\n",
       "3777  Movie  Silent  United States         3          2014"
      ]
     },
     "execution_count": 23,
     "metadata": {},
     "output_type": "execute_result"
    }
   ],
   "source": [
    "df[df.type == 'Movie'].sort_values(by='duration', ascending=False).tail(1)[['type','title','country','duration','release_year']]"
   ]
  },
  {
   "cell_type": "markdown",
   "id": "7e9cc7b8",
   "metadata": {},
   "source": [
    "De acordo com o site IMDB, o filme Silent lançado em 2014, é um curta animação e tem 3 minutos de duração."
   ]
  },
  {
   "cell_type": "markdown",
   "id": "217c4d60",
   "metadata": {},
   "source": [
    "### 4.2. Categoria: Programas de TV / Seriados "
   ]
  },
  {
   "cell_type": "code",
   "execution_count": 24,
   "id": "340aede7",
   "metadata": {},
   "outputs": [
    {
     "data": {
      "image/png": "[encoded data removed]",
      "text/plain": [
       "<Figure size 648x360 with 1 Axes>"
      ]
     },
     "metadata": {
      "needs_background": "light"
     },
     "output_type": "display_data"
    }
   ],
   "source": [
    "tv_duration = df[df.type == 'TV Show']['duration'].value_counts()\n",
    "\n",
    "fig,ax = plt.subplots(figsize=(9,5))\n",
    "ax= tv_duration.plot(kind='bar', width=0.7, color='#b20710', edgecolor='black')\n",
    "for p in ax.patches:\n",
    "        ax.annotate('{:.0f}'.format(p.get_height()), (p.get_x()+0.4, p.get_height()+15),\n",
    "                    ha='center', va='bottom',\n",
    "                    color= 'black')\n",
    "        \n",
    "plt.title('\\nGráfico 6: Distribuição da duração dos Programas de TV / Seriados disponíveis na Netflix\\n', fontsize=13)\n",
    "plt.xlabel('\\nnº de Temporadas')\n",
    "plt.xticks(rotation=0)\n",
    "plt.ylabel('')\n",
    "plt.yticks([])\n",
    "ax.spines['top'].set_visible(False)\n",
    "ax.spines['right'].set_visible(False)\n",
    "ax.spines['left'].set_visible(False);"
   ]
  },
  {
   "cell_type": "markdown",
   "id": "1a4368fa",
   "metadata": {},
   "source": [
    "Pode-se observar pelo Gráfico 6 que em geral, os programas de TV / seriados disponíveis na Netflix possuem 1 temporada (1456 títulos). O programa de tv / seriado de maior duração apresenta 17 temporadas. "
   ]
  },
  {
   "cell_type": "markdown",
   "id": "ba41836a",
   "metadata": {},
   "source": [
    "#### Programas de TV / Seriados com maior duração na plataforma "
   ]
  },
  {
   "cell_type": "code",
   "execution_count": 45,
   "id": "0401a1ea",
   "metadata": {
    "scrolled": true
   },
   "outputs": [
    {
     "data": {
      "text/html": [
       "<div>\n",
       "<style scoped>\n",
       "    .dataframe tbody tr th:only-of-type {\n",
       "        vertical-align: middle;\n",
       "    }\n",
       "\n",
       "    .dataframe tbody tr th {\n",
       "        vertical-align: top;\n",
       "    }\n",
       "\n",
       "    .dataframe thead th {\n",
       "        text-align: right;\n",
       "    }\n",
       "</style>\n",
       "<table border=\"1\" class=\"dataframe\">\n",
       "  <thead>\n",
       "    <tr style=\"text-align: right;\">\n",
       "      <th></th>\n",
       "      <th>type</th>\n",
       "      <th>title</th>\n",
       "      <th>duration</th>\n",
       "      <th>country</th>\n",
       "    </tr>\n",
       "  </thead>\n",
       "  <tbody>\n",
       "    <tr>\n",
       "      <th>548</th>\n",
       "      <td>TV Show</td>\n",
       "      <td>Grey's Anatomy</td>\n",
       "      <td>17</td>\n",
       "      <td>United States</td>\n",
       "    </tr>\n",
       "    <tr>\n",
       "      <th>2423</th>\n",
       "      <td>TV Show</td>\n",
       "      <td>Supernatural</td>\n",
       "      <td>15</td>\n",
       "      <td>United States, Canada</td>\n",
       "    </tr>\n",
       "    <tr>\n",
       "      <th>4798</th>\n",
       "      <td>TV Show</td>\n",
       "      <td>NCIS</td>\n",
       "      <td>15</td>\n",
       "      <td>United States</td>\n",
       "    </tr>\n",
       "    <tr>\n",
       "      <th>1354</th>\n",
       "      <td>TV Show</td>\n",
       "      <td>Heartland</td>\n",
       "      <td>13</td>\n",
       "      <td>Canada</td>\n",
       "    </tr>\n",
       "    <tr>\n",
       "      <th>4220</th>\n",
       "      <td>TV Show</td>\n",
       "      <td>COMEDIANS of the world</td>\n",
       "      <td>13</td>\n",
       "      <td>United States</td>\n",
       "    </tr>\n",
       "  </tbody>\n",
       "</table>\n",
       "</div>"
      ],
      "text/plain": [
       "         type                   title  duration                country\n",
       "548   TV Show          Grey's Anatomy        17          United States\n",
       "2423  TV Show            Supernatural        15  United States, Canada\n",
       "4798  TV Show                    NCIS        15          United States\n",
       "1354  TV Show               Heartland        13                 Canada\n",
       "4220  TV Show  COMEDIANS of the world        13          United States"
      ]
     },
     "execution_count": 45,
     "metadata": {},
     "output_type": "execute_result"
    }
   ],
   "source": [
    "df[(df.duration > 12) & (df.type == 'TV Show')].sort_values(by='duration', ascending=False)[['type','title','duration','country']]"
   ]
  },
  {
   "cell_type": "markdown",
   "id": "8105e919",
   "metadata": {},
   "source": [
    "A série Grey's Anatomy foi lançada em 2005 e é o seriado de maior duração disponível na Netflix. Atualmente, a série está exibindo sua 18ª temporada. A plataforma disponibiliza no momento até a sua 17ª temporada.\n",
    "\n",
    "Os programas Supernatural e NCIS aparecem logo em seguida com 15 temporadas. "
   ]
  },
  {
   "cell_type": "markdown",
   "id": "3601bda5",
   "metadata": {},
   "source": [
    "### 5. Classificação Indicativa\n",
    "\n",
    "Classificação Indicativa - ClassInd - é uma informação prestada às famílias sobre a faixa etária para a qual obras audiovisuais não se recomendam. "
   ]
  },
  {
   "cell_type": "code",
   "execution_count": 26,
   "id": "e3d87984",
   "metadata": {},
   "outputs": [
    {
     "name": "stdout",
     "output_type": "stream",
     "text": [
      "\n",
      "Tabela 5: Classificação Indicativa por Categoria\n"
     ]
    },
    {
     "data": {
      "text/html": [
       "<div>\n",
       "<style scoped>\n",
       "    .dataframe tbody tr th:only-of-type {\n",
       "        vertical-align: middle;\n",
       "    }\n",
       "\n",
       "    .dataframe tbody tr th {\n",
       "        vertical-align: top;\n",
       "    }\n",
       "\n",
       "    .dataframe thead th {\n",
       "        text-align: right;\n",
       "    }\n",
       "</style>\n",
       "<table border=\"1\" class=\"dataframe\">\n",
       "  <thead>\n",
       "    <tr style=\"text-align: right;\">\n",
       "      <th>type</th>\n",
       "      <th>Movie</th>\n",
       "      <th>TV Show</th>\n",
       "    </tr>\n",
       "    <tr>\n",
       "      <th>rating</th>\n",
       "      <th></th>\n",
       "      <th></th>\n",
       "    </tr>\n",
       "  </thead>\n",
       "  <tbody>\n",
       "    <tr>\n",
       "      <th>TV-MA</th>\n",
       "      <td>1924.0</td>\n",
       "      <td>1005.0</td>\n",
       "    </tr>\n",
       "    <tr>\n",
       "      <th>TV-14</th>\n",
       "      <td>1307.0</td>\n",
       "      <td>620.0</td>\n",
       "    </tr>\n",
       "    <tr>\n",
       "      <th>R</th>\n",
       "      <td>787.0</td>\n",
       "      <td>1.0</td>\n",
       "    </tr>\n",
       "    <tr>\n",
       "      <th>TV-PG</th>\n",
       "      <td>504.0</td>\n",
       "      <td>267.0</td>\n",
       "    </tr>\n",
       "    <tr>\n",
       "      <th>PG-13</th>\n",
       "      <td>482.0</td>\n",
       "      <td>NaN</td>\n",
       "    </tr>\n",
       "    <tr>\n",
       "      <th>PG</th>\n",
       "      <td>281.0</td>\n",
       "      <td>NaN</td>\n",
       "    </tr>\n",
       "    <tr>\n",
       "      <th>TV-G</th>\n",
       "      <td>109.0</td>\n",
       "      <td>81.0</td>\n",
       "    </tr>\n",
       "    <tr>\n",
       "      <th>TV-Y</th>\n",
       "      <td>84.0</td>\n",
       "      <td>143.0</td>\n",
       "    </tr>\n",
       "    <tr>\n",
       "      <th>TV-Y7</th>\n",
       "      <td>83.0</td>\n",
       "      <td>152.0</td>\n",
       "    </tr>\n",
       "    <tr>\n",
       "      <th>NR</th>\n",
       "      <td>75.0</td>\n",
       "      <td>4.0</td>\n",
       "    </tr>\n",
       "    <tr>\n",
       "      <th>G</th>\n",
       "      <td>41.0</td>\n",
       "      <td>NaN</td>\n",
       "    </tr>\n",
       "    <tr>\n",
       "      <th>TV-Y7-FV</th>\n",
       "      <td>4.0</td>\n",
       "      <td>1.0</td>\n",
       "    </tr>\n",
       "    <tr>\n",
       "      <th>NC-17</th>\n",
       "      <td>3.0</td>\n",
       "      <td>NaN</td>\n",
       "    </tr>\n",
       "    <tr>\n",
       "      <th>UR</th>\n",
       "      <td>3.0</td>\n",
       "      <td>NaN</td>\n",
       "    </tr>\n",
       "  </tbody>\n",
       "</table>\n",
       "</div>"
      ],
      "text/plain": [
       "type       Movie  TV Show\n",
       "rating                   \n",
       "TV-MA     1924.0   1005.0\n",
       "TV-14     1307.0    620.0\n",
       "R          787.0      1.0\n",
       "TV-PG      504.0    267.0\n",
       "PG-13      482.0      NaN\n",
       "PG         281.0      NaN\n",
       "TV-G       109.0     81.0\n",
       "TV-Y        84.0    143.0\n",
       "TV-Y7       83.0    152.0\n",
       "NR          75.0      4.0\n",
       "G           41.0      NaN\n",
       "TV-Y7-FV     4.0      1.0\n",
       "NC-17        3.0      NaN\n",
       "UR           3.0      NaN"
      ]
     },
     "execution_count": 26,
     "metadata": {},
     "output_type": "execute_result"
    }
   ],
   "source": [
    "print('\\nTabela 5: Classificação Indicativa por Categoria')\n",
    "\n",
    "df.groupby(['rating','type'])['rating'].count().unstack().sort_values(by='Movie', ascending=False)"
   ]
  },
  {
   "cell_type": "markdown",
   "id": "17682d31",
   "metadata": {},
   "source": [
    "Algumas das classificações:\n",
    "\n",
    "* TV-MA - Audiência Madura - Não recomendado para menores de 17 anos.\n",
    "* TV-14 - Não recomendado para menores de 14 anos.\n",
    "* R – Restricted – Permitido apenas com acompanhantes adultos para menores de 17 anos.\n",
    "* PG e TV-PG – Parental Guidance Suggested – Sob acompanhamento/orientação dos pais.\n",
    "* PG-13 - Parents Strongly Cautioned – Filme não recomendado para menores de 13 anos.\n",
    "* TV-Y7 - Não recomendado para menores de 7 anos.\n",
    "* TV-Y - Conteúdo Infantil.\n",
    "* TV-Y7-FV - Não recomendado para menores de 7 anos com violência fantasiosa.\n",
    "* G e TV-G – General Audiences – Livre para todas as idades.\n",
    "* UR - Unrated - Sem Classificação"
   ]
  },
  {
   "cell_type": "code",
   "execution_count": 27,
   "id": "5d470fad",
   "metadata": {},
   "outputs": [
    {
     "data": {
      "image/png": "[encoded data removed]",
      "text/plain": [
       "<Figure size 1008x360 with 1 Axes>"
      ]
     },
     "metadata": {
      "needs_background": "light"
     },
     "output_type": "display_data"
    }
   ],
   "source": [
    "plt.figure(figsize=(14, 5))\n",
    "\n",
    "palette = sns.set_palette('RdGy', 14)\n",
    "    \n",
    "ax = sns.countplot(x=\"type\", hue=\"rating\", palette=palette, data=df, edgecolor='black')\n",
    "\n",
    "for p in ax.patches:\n",
    "        ax.annotate('{:.0f}'.format(p.get_height()), (p.get_x()+0.032, p.get_height()+ 15),\n",
    "                    ha='center', va='bottom',\n",
    "                    color= 'black')\n",
    "        \n",
    "plt.title('\\nGráfico 7: Classificação Indicativa por categoria\\n', fontsize=13)\n",
    "plt.xlabel('')\n",
    "plt.ylabel('')\n",
    "plt.legend(bbox_to_anchor=(1.04,0.5), loc=\"center left\", borderaxespad=0)\n",
    "plt.yticks([])\n",
    "ax.spines['top'].set_visible(False)\n",
    "ax.spines['right'].set_visible(False)\n",
    "ax.spines['left'].set_visible(False);\n",
    "    \n"
   ]
  },
  {
   "cell_type": "markdown",
   "id": "3e507eb8",
   "metadata": {},
   "source": [
    "Pela Tabela 5 e o Gráfico 7, observa-se que a maioria dos títulos disponíveis na Netflix têm classificação indicativa TV-MA, ou seja, não recomendado para menores de 17 anos. Logo seguida vêm os títulos classificados como TV-14 (não recomendado para menores de 14 anos.\n",
    "\n",
    "* TV-MA - 1924 filmes e 1005 programas de tv/seriados\n",
    "* TV-14 - 1307 filmes e 620 programas de tv/seriados"
   ]
  },
  {
   "cell_type": "markdown",
   "id": "03e09ce1",
   "metadata": {},
   "source": [
    "### 6. Títulos adicionados na plataforma "
   ]
  },
  {
   "cell_type": "code",
   "execution_count": 39,
   "id": "82ab9458",
   "metadata": {},
   "outputs": [],
   "source": [
    "# Criando as colunas year_added e date_added\n",
    "\n",
    "df['year_added'] = df['date_added'].dt.year.astype(int)\n",
    "df['month_added'] = df['date_added'].dt.month.astype(int)"
   ]
  },
  {
   "cell_type": "code",
   "execution_count": 30,
   "id": "4a119d3b",
   "metadata": {},
   "outputs": [
    {
     "name": "stdout",
     "output_type": "stream",
     "text": [
      "\n",
      "Tabela 6: Total de títulos adicionados na plataforma por ano\n"
     ]
    },
    {
     "data": {
      "text/html": [
       "<div>\n",
       "<style scoped>\n",
       "    .dataframe tbody tr th:only-of-type {\n",
       "        vertical-align: middle;\n",
       "    }\n",
       "\n",
       "    .dataframe tbody tr th {\n",
       "        vertical-align: top;\n",
       "    }\n",
       "\n",
       "    .dataframe thead th {\n",
       "        text-align: right;\n",
       "    }\n",
       "</style>\n",
       "<table border=\"1\" class=\"dataframe\">\n",
       "  <thead>\n",
       "    <tr style=\"text-align: right;\">\n",
       "      <th>type</th>\n",
       "      <th>Movie</th>\n",
       "      <th>TV Show</th>\n",
       "    </tr>\n",
       "    <tr>\n",
       "      <th>year_added</th>\n",
       "      <th></th>\n",
       "      <th></th>\n",
       "    </tr>\n",
       "  </thead>\n",
       "  <tbody>\n",
       "    <tr>\n",
       "      <th>2021</th>\n",
       "      <td>770.0</td>\n",
       "      <td>370.0</td>\n",
       "    </tr>\n",
       "    <tr>\n",
       "      <th>2020</th>\n",
       "      <td>1223.0</td>\n",
       "      <td>548.0</td>\n",
       "    </tr>\n",
       "    <tr>\n",
       "      <th>2019</th>\n",
       "      <td>1349.0</td>\n",
       "      <td>509.0</td>\n",
       "    </tr>\n",
       "    <tr>\n",
       "      <th>2018</th>\n",
       "      <td>1192.0</td>\n",
       "      <td>337.0</td>\n",
       "    </tr>\n",
       "    <tr>\n",
       "      <th>2017</th>\n",
       "      <td>812.0</td>\n",
       "      <td>309.0</td>\n",
       "    </tr>\n",
       "    <tr>\n",
       "      <th>2016</th>\n",
       "      <td>242.0</td>\n",
       "      <td>165.0</td>\n",
       "    </tr>\n",
       "    <tr>\n",
       "      <th>2015</th>\n",
       "      <td>54.0</td>\n",
       "      <td>25.0</td>\n",
       "    </tr>\n",
       "    <tr>\n",
       "      <th>2014</th>\n",
       "      <td>19.0</td>\n",
       "      <td>5.0</td>\n",
       "    </tr>\n",
       "    <tr>\n",
       "      <th>2013</th>\n",
       "      <td>6.0</td>\n",
       "      <td>5.0</td>\n",
       "    </tr>\n",
       "    <tr>\n",
       "      <th>2012</th>\n",
       "      <td>3.0</td>\n",
       "      <td>NaN</td>\n",
       "    </tr>\n",
       "    <tr>\n",
       "      <th>2011</th>\n",
       "      <td>13.0</td>\n",
       "      <td>NaN</td>\n",
       "    </tr>\n",
       "    <tr>\n",
       "      <th>2010</th>\n",
       "      <td>1.0</td>\n",
       "      <td>NaN</td>\n",
       "    </tr>\n",
       "    <tr>\n",
       "      <th>2009</th>\n",
       "      <td>2.0</td>\n",
       "      <td>NaN</td>\n",
       "    </tr>\n",
       "    <tr>\n",
       "      <th>2008</th>\n",
       "      <td>1.0</td>\n",
       "      <td>1.0</td>\n",
       "    </tr>\n",
       "  </tbody>\n",
       "</table>\n",
       "</div>"
      ],
      "text/plain": [
       "type         Movie  TV Show\n",
       "year_added                 \n",
       "2021         770.0    370.0\n",
       "2020        1223.0    548.0\n",
       "2019        1349.0    509.0\n",
       "2018        1192.0    337.0\n",
       "2017         812.0    309.0\n",
       "2016         242.0    165.0\n",
       "2015          54.0     25.0\n",
       "2014          19.0      5.0\n",
       "2013           6.0      5.0\n",
       "2012           3.0      NaN\n",
       "2011          13.0      NaN\n",
       "2010           1.0      NaN\n",
       "2009           2.0      NaN\n",
       "2008           1.0      1.0"
      ]
     },
     "execution_count": 30,
     "metadata": {},
     "output_type": "execute_result"
    }
   ],
   "source": [
    "year_type = df.groupby(['year_added','type'])['year_added'].count().unstack().sort_values(by='year_added', ascending = False)\n",
    "\n",
    "print('\\nTabela 6: Total de títulos adicionados na plataforma por ano')\n",
    "\n",
    "year_type"
   ]
  },
  {
   "cell_type": "code",
   "execution_count": 31,
   "id": "abe1e0ba",
   "metadata": {},
   "outputs": [
    {
     "data": {
      "image/png": "[encoded data removed]",
      "text/plain": [
       "<Figure size 1080x360 with 1 Axes>"
      ]
     },
     "metadata": {
      "needs_background": "light"
     },
     "output_type": "display_data"
    }
   ],
   "source": [
    "plt.figure(figsize=(15, 5))\n",
    "\n",
    "colors=['#b20710','#4b4d4b']\n",
    "ax = sns.countplot(x='year_added', data=df, hue='type', palette=colors, edgecolor='black')\n",
    "\n",
    "for p in ax.patches:\n",
    "        ax.annotate('{:.0f}'.format(p.get_height()), (p.get_x()+0.2, p.get_height() + 12),\n",
    "                    ha='center', va='bottom',\n",
    "                    color= 'black')\n",
    "\n",
    "plt.title('\\nGráfico 8: Total de títulos adicionados na plataforma por ano\\n', fontsize=13)\n",
    "plt.xlabel('')\n",
    "plt.ylabel('')\n",
    "plt.yticks([])\n",
    "ax.spines['top'].set_visible(False)\n",
    "ax.spines['right'].set_visible(False)\n",
    "ax.spines['left'].set_visible(False)\n",
    "plt.legend(bbox_to_anchor=(1.04,0.5), loc=\"center left\", borderaxespad=0);"
   ]
  },
  {
   "cell_type": "markdown",
   "id": "dcafe7db",
   "metadata": {},
   "source": [
    "Pode-se observar pela Tabela 6 e Gráfico 8 uma crescente no nº de títulos adicionados na plataforma entre 2016 e 2021. Destaca-se o ano de 2019 com 1349 filmes adicionados e 509 programas de tv / seriados."
   ]
  },
  {
   "cell_type": "markdown",
   "id": "c61137ac",
   "metadata": {},
   "source": [
    "### 7. Últimos lançamentos adicionados na plataforma\n",
    "\n",
    "Alguns dos lançamentos mais recentes na plataforma de produções americanas e brasileiras"
   ]
  },
  {
   "cell_type": "markdown",
   "id": "ffd05264",
   "metadata": {},
   "source": [
    "### 7.1. Categoria: Filme "
   ]
  },
  {
   "cell_type": "code",
   "execution_count": 40,
   "id": "80cc8ebc",
   "metadata": {},
   "outputs": [
    {
     "name": "stdout",
     "output_type": "stream",
     "text": [
      "\n",
      "Tabela 7: Filmes Americanos adicionados recentemente na Netflix\n"
     ]
    },
    {
     "data": {
      "text/html": [
       "<div>\n",
       "<style scoped>\n",
       "    .dataframe tbody tr th:only-of-type {\n",
       "        vertical-align: middle;\n",
       "    }\n",
       "\n",
       "    .dataframe tbody tr th {\n",
       "        vertical-align: top;\n",
       "    }\n",
       "\n",
       "    .dataframe thead th {\n",
       "        text-align: right;\n",
       "    }\n",
       "</style>\n",
       "<table border=\"1\" class=\"dataframe\">\n",
       "  <thead>\n",
       "    <tr style=\"text-align: right;\">\n",
       "      <th></th>\n",
       "      <th>type</th>\n",
       "      <th>title</th>\n",
       "      <th>country</th>\n",
       "      <th>date_added</th>\n",
       "      <th>release_year</th>\n",
       "    </tr>\n",
       "  </thead>\n",
       "  <tbody>\n",
       "    <tr>\n",
       "      <th>9</th>\n",
       "      <td>Movie</td>\n",
       "      <td>The Starling</td>\n",
       "      <td>United States</td>\n",
       "      <td>2021-09-24</td>\n",
       "      <td>2021</td>\n",
       "    </tr>\n",
       "    <tr>\n",
       "      <th>81</th>\n",
       "      <td>Movie</td>\n",
       "      <td>Kate</td>\n",
       "      <td>United States</td>\n",
       "      <td>2021-09-10</td>\n",
       "      <td>2021</td>\n",
       "    </tr>\n",
       "    <tr>\n",
       "      <th>101</th>\n",
       "      <td>Movie</td>\n",
       "      <td>Untold: Breaking Point</td>\n",
       "      <td>United States</td>\n",
       "      <td>2021-09-07</td>\n",
       "      <td>2021</td>\n",
       "    </tr>\n",
       "    <tr>\n",
       "      <th>231</th>\n",
       "      <td>Movie</td>\n",
       "      <td>The Water Man</td>\n",
       "      <td>United States</td>\n",
       "      <td>2021-08-25</td>\n",
       "      <td>2021</td>\n",
       "    </tr>\n",
       "    <tr>\n",
       "      <th>247</th>\n",
       "      <td>Movie</td>\n",
       "      <td>Sweet Girl</td>\n",
       "      <td>United States</td>\n",
       "      <td>2021-08-20</td>\n",
       "      <td>2021</td>\n",
       "    </tr>\n",
       "    <tr>\n",
       "      <th>290</th>\n",
       "      <td>Movie</td>\n",
       "      <td>Untold: Malice at the Palace</td>\n",
       "      <td>United States</td>\n",
       "      <td>2021-08-10</td>\n",
       "      <td>2021</td>\n",
       "    </tr>\n",
       "    <tr>\n",
       "      <th>295</th>\n",
       "      <td>Movie</td>\n",
       "      <td>The Paper Tigers</td>\n",
       "      <td>United States</td>\n",
       "      <td>2021-08-07</td>\n",
       "      <td>2021</td>\n",
       "    </tr>\n",
       "    <tr>\n",
       "      <th>307</th>\n",
       "      <td>Movie</td>\n",
       "      <td>Aftermath</td>\n",
       "      <td>United States</td>\n",
       "      <td>2021-08-04</td>\n",
       "      <td>2021</td>\n",
       "    </tr>\n",
       "    <tr>\n",
       "      <th>317</th>\n",
       "      <td>Movie</td>\n",
       "      <td>Pray Away</td>\n",
       "      <td>United States</td>\n",
       "      <td>2021-08-03</td>\n",
       "      <td>2021</td>\n",
       "    </tr>\n",
       "    <tr>\n",
       "      <th>437</th>\n",
       "      <td>Movie</td>\n",
       "      <td>Cosmic Sin</td>\n",
       "      <td>United States</td>\n",
       "      <td>2021-07-17</td>\n",
       "      <td>2021</td>\n",
       "    </tr>\n",
       "  </tbody>\n",
       "</table>\n",
       "</div>"
      ],
      "text/plain": [
       "      type                         title        country date_added  \\\n",
       "9    Movie                  The Starling  United States 2021-09-24   \n",
       "81   Movie                          Kate  United States 2021-09-10   \n",
       "101  Movie        Untold: Breaking Point  United States 2021-09-07   \n",
       "231  Movie                 The Water Man  United States 2021-08-25   \n",
       "247  Movie                    Sweet Girl  United States 2021-08-20   \n",
       "290  Movie  Untold: Malice at the Palace  United States 2021-08-10   \n",
       "295  Movie              The Paper Tigers  United States 2021-08-07   \n",
       "307  Movie                     Aftermath  United States 2021-08-04   \n",
       "317  Movie                     Pray Away  United States 2021-08-03   \n",
       "437  Movie                    Cosmic Sin  United States 2021-07-17   \n",
       "\n",
       "     release_year  \n",
       "9            2021  \n",
       "81           2021  \n",
       "101          2021  \n",
       "231          2021  \n",
       "247          2021  \n",
       "290          2021  \n",
       "295          2021  \n",
       "307          2021  \n",
       "317          2021  \n",
       "437          2021  "
      ]
     },
     "execution_count": 40,
     "metadata": {},
     "output_type": "execute_result"
    }
   ],
   "source": [
    "print('\\nTabela 7: Filmes Americanos adicionados recentemente na Netflix')\n",
    "df[(df.country == 'United States') & (df.type == 'Movie')].sort_values(by=['release_year','month_added'], ascending=False).head(10)[['type','title','country','date_added','release_year']]"
   ]
  },
  {
   "cell_type": "code",
   "execution_count": 41,
   "id": "e005c77a",
   "metadata": {},
   "outputs": [
    {
     "name": "stdout",
     "output_type": "stream",
     "text": [
      "\n",
      "Tabela 8: Filmes Brasileiros adicionados recentemente na Netflix\n"
     ]
    },
    {
     "data": {
      "text/html": [
       "<div>\n",
       "<style scoped>\n",
       "    .dataframe tbody tr th:only-of-type {\n",
       "        vertical-align: middle;\n",
       "    }\n",
       "\n",
       "    .dataframe tbody tr th {\n",
       "        vertical-align: top;\n",
       "    }\n",
       "\n",
       "    .dataframe thead th {\n",
       "        text-align: right;\n",
       "    }\n",
       "</style>\n",
       "<table border=\"1\" class=\"dataframe\">\n",
       "  <thead>\n",
       "    <tr style=\"text-align: right;\">\n",
       "      <th></th>\n",
       "      <th>type</th>\n",
       "      <th>title</th>\n",
       "      <th>country</th>\n",
       "      <th>date_added</th>\n",
       "      <th>release_year</th>\n",
       "    </tr>\n",
       "  </thead>\n",
       "  <tbody>\n",
       "    <tr>\n",
       "      <th>783</th>\n",
       "      <td>Movie</td>\n",
       "      <td>Carnaval</td>\n",
       "      <td>Brazil</td>\n",
       "      <td>2021-06-02</td>\n",
       "      <td>2021</td>\n",
       "    </tr>\n",
       "    <tr>\n",
       "      <th>966</th>\n",
       "      <td>Movie</td>\n",
       "      <td>Get the Grift</td>\n",
       "      <td>Brazil</td>\n",
       "      <td>2021-04-28</td>\n",
       "      <td>2021</td>\n",
       "    </tr>\n",
       "    <tr>\n",
       "      <th>1188</th>\n",
       "      <td>Movie</td>\n",
       "      <td>Get the Goat</td>\n",
       "      <td>Brazil</td>\n",
       "      <td>2021-03-18</td>\n",
       "      <td>2021</td>\n",
       "    </tr>\n",
       "    <tr>\n",
       "      <th>1577</th>\n",
       "      <td>Movie</td>\n",
       "      <td>Emicida: AmarElo - It’s All For Yesterday</td>\n",
       "      <td>Brazil</td>\n",
       "      <td>2020-12-08</td>\n",
       "      <td>2020</td>\n",
       "    </tr>\n",
       "    <tr>\n",
       "      <th>1601</th>\n",
       "      <td>Movie</td>\n",
       "      <td>Just Another Christmas</td>\n",
       "      <td>Brazil</td>\n",
       "      <td>2020-12-03</td>\n",
       "      <td>2020</td>\n",
       "    </tr>\n",
       "    <tr>\n",
       "      <th>1704</th>\n",
       "      <td>Movie</td>\n",
       "      <td>The Beginning of Life 2: Outside</td>\n",
       "      <td>Brazil</td>\n",
       "      <td>2020-11-13</td>\n",
       "      <td>2020</td>\n",
       "    </tr>\n",
       "    <tr>\n",
       "      <th>2050</th>\n",
       "      <td>Movie</td>\n",
       "      <td>Afonso Padilha: Classless</td>\n",
       "      <td>Brazil</td>\n",
       "      <td>2020-09-03</td>\n",
       "      <td>2020</td>\n",
       "    </tr>\n",
       "    <tr>\n",
       "      <th>2302</th>\n",
       "      <td>Movie</td>\n",
       "      <td>Thiago Ventura: POKAS</td>\n",
       "      <td>Brazil</td>\n",
       "      <td>2020-07-02</td>\n",
       "      <td>2020</td>\n",
       "    </tr>\n",
       "    <tr>\n",
       "      <th>2563</th>\n",
       "      <td>Movie</td>\n",
       "      <td>Luccas Neto em: Acampamento de Férias 2</td>\n",
       "      <td>Brazil</td>\n",
       "      <td>2020-05-04</td>\n",
       "      <td>2020</td>\n",
       "    </tr>\n",
       "    <tr>\n",
       "      <th>2601</th>\n",
       "      <td>Movie</td>\n",
       "      <td>Rich in Love</td>\n",
       "      <td>Brazil</td>\n",
       "      <td>2020-04-30</td>\n",
       "      <td>2020</td>\n",
       "    </tr>\n",
       "  </tbody>\n",
       "</table>\n",
       "</div>"
      ],
      "text/plain": [
       "       type                                      title country date_added  \\\n",
       "783   Movie                                   Carnaval  Brazil 2021-06-02   \n",
       "966   Movie                              Get the Grift  Brazil 2021-04-28   \n",
       "1188  Movie                               Get the Goat  Brazil 2021-03-18   \n",
       "1577  Movie  Emicida: AmarElo - It’s All For Yesterday  Brazil 2020-12-08   \n",
       "1601  Movie                     Just Another Christmas  Brazil 2020-12-03   \n",
       "1704  Movie           The Beginning of Life 2: Outside  Brazil 2020-11-13   \n",
       "2050  Movie                  Afonso Padilha: Classless  Brazil 2020-09-03   \n",
       "2302  Movie                      Thiago Ventura: POKAS  Brazil 2020-07-02   \n",
       "2563  Movie    Luccas Neto em: Acampamento de Férias 2  Brazil 2020-05-04   \n",
       "2601  Movie                               Rich in Love  Brazil 2020-04-30   \n",
       "\n",
       "      release_year  \n",
       "783           2021  \n",
       "966           2021  \n",
       "1188          2021  \n",
       "1577          2020  \n",
       "1601          2020  \n",
       "1704          2020  \n",
       "2050          2020  \n",
       "2302          2020  \n",
       "2563          2020  \n",
       "2601          2020  "
      ]
     },
     "execution_count": 41,
     "metadata": {},
     "output_type": "execute_result"
    }
   ],
   "source": [
    "print('\\nTabela 8: Filmes Brasileiros adicionados recentemente na Netflix')\n",
    "df[(df.country == 'Brazil') & (df.type == 'Movie')].sort_values(by=['release_year','month_added'], ascending=False).head(10)[['type','title','country','date_added','release_year']]"
   ]
  },
  {
   "cell_type": "markdown",
   "id": "4fe9167b",
   "metadata": {},
   "source": [
    "### 7.2. Categoria: Programas de TV / Seriados "
   ]
  },
  {
   "cell_type": "code",
   "execution_count": 42,
   "id": "432209cd",
   "metadata": {},
   "outputs": [
    {
     "name": "stdout",
     "output_type": "stream",
     "text": [
      "\n",
      "Tabela 9: Programas de TV / Seriados Americanos adicionados recentemente na Netflix\n"
     ]
    },
    {
     "data": {
      "text/html": [
       "<div>\n",
       "<style scoped>\n",
       "    .dataframe tbody tr th:only-of-type {\n",
       "        vertical-align: middle;\n",
       "    }\n",
       "\n",
       "    .dataframe tbody tr th {\n",
       "        vertical-align: top;\n",
       "    }\n",
       "\n",
       "    .dataframe thead th {\n",
       "        text-align: right;\n",
       "    }\n",
       "</style>\n",
       "<table border=\"1\" class=\"dataframe\">\n",
       "  <thead>\n",
       "    <tr style=\"text-align: right;\">\n",
       "      <th></th>\n",
       "      <th>type</th>\n",
       "      <th>title</th>\n",
       "      <th>country</th>\n",
       "      <th>date_added</th>\n",
       "      <th>release_year</th>\n",
       "    </tr>\n",
       "  </thead>\n",
       "  <tbody>\n",
       "    <tr>\n",
       "      <th>15</th>\n",
       "      <td>TV Show</td>\n",
       "      <td>Dear White People</td>\n",
       "      <td>United States</td>\n",
       "      <td>2021-09-22</td>\n",
       "      <td>2021</td>\n",
       "    </tr>\n",
       "    <tr>\n",
       "      <th>40</th>\n",
       "      <td>TV Show</td>\n",
       "      <td>He-Man and the Masters of the Universe</td>\n",
       "      <td>United States</td>\n",
       "      <td>2021-09-16</td>\n",
       "      <td>2021</td>\n",
       "    </tr>\n",
       "    <tr>\n",
       "      <th>55</th>\n",
       "      <td>TV Show</td>\n",
       "      <td>Nailed It</td>\n",
       "      <td>United States</td>\n",
       "      <td>2021-09-15</td>\n",
       "      <td>2021</td>\n",
       "    </tr>\n",
       "    <tr>\n",
       "      <th>82</th>\n",
       "      <td>TV Show</td>\n",
       "      <td>Lucifer</td>\n",
       "      <td>United States</td>\n",
       "      <td>2021-09-10</td>\n",
       "      <td>2021</td>\n",
       "    </tr>\n",
       "    <tr>\n",
       "      <th>97</th>\n",
       "      <td>TV Show</td>\n",
       "      <td>Kid Cosmic</td>\n",
       "      <td>United States</td>\n",
       "      <td>2021-09-07</td>\n",
       "      <td>2021</td>\n",
       "    </tr>\n",
       "    <tr>\n",
       "      <th>106</th>\n",
       "      <td>TV Show</td>\n",
       "      <td>Bunk'd</td>\n",
       "      <td>United States</td>\n",
       "      <td>2021-09-05</td>\n",
       "      <td>2021</td>\n",
       "    </tr>\n",
       "    <tr>\n",
       "      <th>125</th>\n",
       "      <td>TV Show</td>\n",
       "      <td>Q-Force</td>\n",
       "      <td>United States</td>\n",
       "      <td>2021-09-02</td>\n",
       "      <td>2021</td>\n",
       "    </tr>\n",
       "    <tr>\n",
       "      <th>184</th>\n",
       "      <td>TV Show</td>\n",
       "      <td>Sparking Joy</td>\n",
       "      <td>United States</td>\n",
       "      <td>2021-08-31</td>\n",
       "      <td>2021</td>\n",
       "    </tr>\n",
       "    <tr>\n",
       "      <th>220</th>\n",
       "      <td>TV Show</td>\n",
       "      <td>Family Reunion</td>\n",
       "      <td>United States</td>\n",
       "      <td>2021-08-26</td>\n",
       "      <td>2021</td>\n",
       "    </tr>\n",
       "    <tr>\n",
       "      <th>241</th>\n",
       "      <td>TV Show</td>\n",
       "      <td>Manifest</td>\n",
       "      <td>United States</td>\n",
       "      <td>2021-08-21</td>\n",
       "      <td>2021</td>\n",
       "    </tr>\n",
       "  </tbody>\n",
       "</table>\n",
       "</div>"
      ],
      "text/plain": [
       "        type                                   title        country  \\\n",
       "15   TV Show                       Dear White People  United States   \n",
       "40   TV Show  He-Man and the Masters of the Universe  United States   \n",
       "55   TV Show                               Nailed It  United States   \n",
       "82   TV Show                                 Lucifer  United States   \n",
       "97   TV Show                              Kid Cosmic  United States   \n",
       "106  TV Show                                  Bunk'd  United States   \n",
       "125  TV Show                                 Q-Force  United States   \n",
       "184  TV Show                            Sparking Joy  United States   \n",
       "220  TV Show                          Family Reunion  United States   \n",
       "241  TV Show                                Manifest  United States   \n",
       "\n",
       "    date_added  release_year  \n",
       "15  2021-09-22          2021  \n",
       "40  2021-09-16          2021  \n",
       "55  2021-09-15          2021  \n",
       "82  2021-09-10          2021  \n",
       "97  2021-09-07          2021  \n",
       "106 2021-09-05          2021  \n",
       "125 2021-09-02          2021  \n",
       "184 2021-08-31          2021  \n",
       "220 2021-08-26          2021  \n",
       "241 2021-08-21          2021  "
      ]
     },
     "execution_count": 42,
     "metadata": {},
     "output_type": "execute_result"
    }
   ],
   "source": [
    "print('\\nTabela 9: Programas de TV / Seriados Americanos adicionados recentemente na Netflix')\n",
    "df[(df.country == 'United States') & (df.type == 'TV Show')].sort_values(by=['release_year','month_added'], ascending=False).head(10)[['type','title','country','date_added','release_year']]"
   ]
  },
  {
   "cell_type": "code",
   "execution_count": 43,
   "id": "759f643f",
   "metadata": {},
   "outputs": [
    {
     "name": "stdout",
     "output_type": "stream",
     "text": [
      "\n",
      "Tabela 10: Programas de TV / Seriados Brasileiros adicionados recentemente na Netflix\n"
     ]
    },
    {
     "data": {
      "text/html": [
       "<div>\n",
       "<style scoped>\n",
       "    .dataframe tbody tr th:only-of-type {\n",
       "        vertical-align: middle;\n",
       "    }\n",
       "\n",
       "    .dataframe tbody tr th {\n",
       "        vertical-align: top;\n",
       "    }\n",
       "\n",
       "    .dataframe thead th {\n",
       "        text-align: right;\n",
       "    }\n",
       "</style>\n",
       "<table border=\"1\" class=\"dataframe\">\n",
       "  <thead>\n",
       "    <tr style=\"text-align: right;\">\n",
       "      <th></th>\n",
       "      <th>type</th>\n",
       "      <th>title</th>\n",
       "      <th>country</th>\n",
       "      <th>date_added</th>\n",
       "      <th>release_year</th>\n",
       "    </tr>\n",
       "  </thead>\n",
       "  <tbody>\n",
       "    <tr>\n",
       "      <th>1339</th>\n",
       "      <td>TV Show</td>\n",
       "      <td>Invisible City</td>\n",
       "      <td>Brazil</td>\n",
       "      <td>2021-02-05</td>\n",
       "      <td>2021</td>\n",
       "    </tr>\n",
       "    <tr>\n",
       "      <th>1532</th>\n",
       "      <td>TV Show</td>\n",
       "      <td>Anitta: Made In Honório</td>\n",
       "      <td>Brazil</td>\n",
       "      <td>2020-12-16</td>\n",
       "      <td>2020</td>\n",
       "    </tr>\n",
       "    <tr>\n",
       "      <th>1715</th>\n",
       "      <td>TV Show</td>\n",
       "      <td>A Queen Is Born</td>\n",
       "      <td>Brazil</td>\n",
       "      <td>2020-11-11</td>\n",
       "      <td>2020</td>\n",
       "    </tr>\n",
       "    <tr>\n",
       "      <th>1910</th>\n",
       "      <td>TV Show</td>\n",
       "      <td>Good Morning, Verônica</td>\n",
       "      <td>Brazil</td>\n",
       "      <td>2020-10-01</td>\n",
       "      <td>2020</td>\n",
       "    </tr>\n",
       "    <tr>\n",
       "      <th>2127</th>\n",
       "      <td>TV Show</td>\n",
       "      <td>3%</td>\n",
       "      <td>Brazil</td>\n",
       "      <td>2020-08-14</td>\n",
       "      <td>2020</td>\n",
       "    </tr>\n",
       "    <tr>\n",
       "      <th>2168</th>\n",
       "      <td>TV Show</td>\n",
       "      <td>Mystery Lab</td>\n",
       "      <td>Brazil</td>\n",
       "      <td>2020-08-04</td>\n",
       "      <td>2020</td>\n",
       "    </tr>\n",
       "    <tr>\n",
       "      <th>2230</th>\n",
       "      <td>TV Show</td>\n",
       "      <td>Kissing Game</td>\n",
       "      <td>Brazil</td>\n",
       "      <td>2020-07-17</td>\n",
       "      <td>2020</td>\n",
       "    </tr>\n",
       "    <tr>\n",
       "      <th>2245</th>\n",
       "      <td>TV Show</td>\n",
       "      <td>Dating Around: Brazil</td>\n",
       "      <td>Brazil</td>\n",
       "      <td>2020-07-10</td>\n",
       "      <td>2020</td>\n",
       "    </tr>\n",
       "    <tr>\n",
       "      <th>2359</th>\n",
       "      <td>TV Show</td>\n",
       "      <td>Most Beautiful Thing</td>\n",
       "      <td>Brazil</td>\n",
       "      <td>2020-06-19</td>\n",
       "      <td>2020</td>\n",
       "    </tr>\n",
       "    <tr>\n",
       "      <th>2409</th>\n",
       "      <td>TV Show</td>\n",
       "      <td>Reality Z</td>\n",
       "      <td>Brazil</td>\n",
       "      <td>2020-06-10</td>\n",
       "      <td>2020</td>\n",
       "    </tr>\n",
       "  </tbody>\n",
       "</table>\n",
       "</div>"
      ],
      "text/plain": [
       "         type                    title country date_added  release_year\n",
       "1339  TV Show           Invisible City  Brazil 2021-02-05          2021\n",
       "1532  TV Show  Anitta: Made In Honório  Brazil 2020-12-16          2020\n",
       "1715  TV Show          A Queen Is Born  Brazil 2020-11-11          2020\n",
       "1910  TV Show   Good Morning, Verônica  Brazil 2020-10-01          2020\n",
       "2127  TV Show                       3%  Brazil 2020-08-14          2020\n",
       "2168  TV Show              Mystery Lab  Brazil 2020-08-04          2020\n",
       "2230  TV Show             Kissing Game  Brazil 2020-07-17          2020\n",
       "2245  TV Show    Dating Around: Brazil  Brazil 2020-07-10          2020\n",
       "2359  TV Show     Most Beautiful Thing  Brazil 2020-06-19          2020\n",
       "2409  TV Show                Reality Z  Brazil 2020-06-10          2020"
      ]
     },
     "execution_count": 43,
     "metadata": {},
     "output_type": "execute_result"
    }
   ],
   "source": [
    "print('\\nTabela 10: Programas de TV / Seriados Brasileiros adicionados recentemente na Netflix')\n",
    "df[(df.country == 'Brazil') & (df.type == 'TV Show')].sort_values(by=['release_year','month_added'], ascending=False).head(10)[['type','title','country','date_added','release_year']]"
   ]
  },
  {
   "cell_type": "markdown",
   "id": "ba1f30d5",
   "metadata": {},
   "source": [
    "### 8. Títulos mais antigos disponíveis na plataforma"
   ]
  },
  {
   "cell_type": "markdown",
   "id": "d5dfdc57",
   "metadata": {},
   "source": [
    "### 8.1. Categoria: Filme "
   ]
  },
  {
   "cell_type": "code",
   "execution_count": 44,
   "id": "bfacb185",
   "metadata": {},
   "outputs": [
    {
     "name": "stdout",
     "output_type": "stream",
     "text": [
      "\n",
      "Tabela 11: Top 5 Filmes mais antigos disponível na Netflix\n"
     ]
    },
    {
     "data": {
      "text/html": [
       "<div>\n",
       "<style scoped>\n",
       "    .dataframe tbody tr th:only-of-type {\n",
       "        vertical-align: middle;\n",
       "    }\n",
       "\n",
       "    .dataframe tbody tr th {\n",
       "        vertical-align: top;\n",
       "    }\n",
       "\n",
       "    .dataframe thead th {\n",
       "        text-align: right;\n",
       "    }\n",
       "</style>\n",
       "<table border=\"1\" class=\"dataframe\">\n",
       "  <thead>\n",
       "    <tr style=\"text-align: right;\">\n",
       "      <th></th>\n",
       "      <th>type</th>\n",
       "      <th>title</th>\n",
       "      <th>country</th>\n",
       "      <th>date_added</th>\n",
       "      <th>release_year</th>\n",
       "    </tr>\n",
       "  </thead>\n",
       "  <tbody>\n",
       "    <tr>\n",
       "      <th>8205</th>\n",
       "      <td>Movie</td>\n",
       "      <td>The Battle of Midway</td>\n",
       "      <td>United States</td>\n",
       "      <td>2017-03-31</td>\n",
       "      <td>1942</td>\n",
       "    </tr>\n",
       "    <tr>\n",
       "      <th>7790</th>\n",
       "      <td>Movie</td>\n",
       "      <td>Prelude to War</td>\n",
       "      <td>United States</td>\n",
       "      <td>2017-03-31</td>\n",
       "      <td>1942</td>\n",
       "    </tr>\n",
       "    <tr>\n",
       "      <th>8763</th>\n",
       "      <td>Movie</td>\n",
       "      <td>WWII: Report from the Aleutians</td>\n",
       "      <td>United States</td>\n",
       "      <td>2017-03-31</td>\n",
       "      <td>1943</td>\n",
       "    </tr>\n",
       "    <tr>\n",
       "      <th>8739</th>\n",
       "      <td>Movie</td>\n",
       "      <td>Why We Fight: The Battle of Russia</td>\n",
       "      <td>United States</td>\n",
       "      <td>2017-03-31</td>\n",
       "      <td>1943</td>\n",
       "    </tr>\n",
       "    <tr>\n",
       "      <th>8660</th>\n",
       "      <td>Movie</td>\n",
       "      <td>Undercover: How to Operate Behind Enemy Lines</td>\n",
       "      <td>United States</td>\n",
       "      <td>2017-03-31</td>\n",
       "      <td>1943</td>\n",
       "    </tr>\n",
       "  </tbody>\n",
       "</table>\n",
       "</div>"
      ],
      "text/plain": [
       "       type                                          title        country  \\\n",
       "8205  Movie                           The Battle of Midway  United States   \n",
       "7790  Movie                                 Prelude to War  United States   \n",
       "8763  Movie                WWII: Report from the Aleutians  United States   \n",
       "8739  Movie             Why We Fight: The Battle of Russia  United States   \n",
       "8660  Movie  Undercover: How to Operate Behind Enemy Lines  United States   \n",
       "\n",
       "     date_added  release_year  \n",
       "8205 2017-03-31          1942  \n",
       "7790 2017-03-31          1942  \n",
       "8763 2017-03-31          1943  \n",
       "8739 2017-03-31          1943  \n",
       "8660 2017-03-31          1943  "
      ]
     },
     "execution_count": 44,
     "metadata": {},
     "output_type": "execute_result"
    }
   ],
   "source": [
    "print('\\nTabela 11: Top 5 Filmes mais antigos disponível na Netflix')\n",
    "df[df.type == 'Movie'].sort_values(by='release_year', ascending=True).head(5)[['type','title','country','date_added','release_year']]"
   ]
  },
  {
   "cell_type": "markdown",
   "id": "cd454243",
   "metadata": {},
   "source": [
    "Os filmes mais antigos disponíveis na plataforma são 'The Battle of Midway' e 'Prelude to War' de 1942."
   ]
  },
  {
   "cell_type": "markdown",
   "id": "7dce45e6",
   "metadata": {},
   "source": [
    "### 8.2. Categoria: Programas de TV / Seriados "
   ]
  },
  {
   "cell_type": "code",
   "execution_count": 37,
   "id": "faadb30c",
   "metadata": {},
   "outputs": [
    {
     "name": "stdout",
     "output_type": "stream",
     "text": [
      "\n",
      "Tabela 12: Top 5 Programas de TV / Seriados mais antigos disponível na Netflix\n"
     ]
    },
    {
     "data": {
      "text/html": [
       "<div>\n",
       "<style scoped>\n",
       "    .dataframe tbody tr th:only-of-type {\n",
       "        vertical-align: middle;\n",
       "    }\n",
       "\n",
       "    .dataframe tbody tr th {\n",
       "        vertical-align: top;\n",
       "    }\n",
       "\n",
       "    .dataframe thead th {\n",
       "        text-align: right;\n",
       "    }\n",
       "</style>\n",
       "<table border=\"1\" class=\"dataframe\">\n",
       "  <thead>\n",
       "    <tr style=\"text-align: right;\">\n",
       "      <th></th>\n",
       "      <th>type</th>\n",
       "      <th>title</th>\n",
       "      <th>country</th>\n",
       "      <th>date_added</th>\n",
       "      <th>release_year</th>\n",
       "    </tr>\n",
       "  </thead>\n",
       "  <tbody>\n",
       "    <tr>\n",
       "      <th>1331</th>\n",
       "      <td>TV Show</td>\n",
       "      <td>Five Came Back: The Reference Films</td>\n",
       "      <td>United States</td>\n",
       "      <td>2021-02-09</td>\n",
       "      <td>1945</td>\n",
       "    </tr>\n",
       "    <tr>\n",
       "      <th>7743</th>\n",
       "      <td>TV Show</td>\n",
       "      <td>Pioneers of African-American Cinema</td>\n",
       "      <td>United States</td>\n",
       "      <td>2017-02-01</td>\n",
       "      <td>1946</td>\n",
       "    </tr>\n",
       "    <tr>\n",
       "      <th>8541</th>\n",
       "      <td>TV Show</td>\n",
       "      <td>The Twilight Zone (Original Series)</td>\n",
       "      <td>United States</td>\n",
       "      <td>2017-07-01</td>\n",
       "      <td>1963</td>\n",
       "    </tr>\n",
       "    <tr>\n",
       "      <th>8189</th>\n",
       "      <td>TV Show</td>\n",
       "      <td>The Andy Griffith Show</td>\n",
       "      <td>United States</td>\n",
       "      <td>2017-07-01</td>\n",
       "      <td>1967</td>\n",
       "    </tr>\n",
       "    <tr>\n",
       "      <th>4550</th>\n",
       "      <td>TV Show</td>\n",
       "      <td>Monty Python's Fliegender Zirkus</td>\n",
       "      <td>United Kingdom, West Germany</td>\n",
       "      <td>2018-10-02</td>\n",
       "      <td>1972</td>\n",
       "    </tr>\n",
       "  </tbody>\n",
       "</table>\n",
       "</div>"
      ],
      "text/plain": [
       "         type                                title  \\\n",
       "1331  TV Show  Five Came Back: The Reference Films   \n",
       "7743  TV Show  Pioneers of African-American Cinema   \n",
       "8541  TV Show  The Twilight Zone (Original Series)   \n",
       "8189  TV Show               The Andy Griffith Show   \n",
       "4550  TV Show     Monty Python's Fliegender Zirkus   \n",
       "\n",
       "                           country date_added  release_year  \n",
       "1331                 United States 2021-02-09          1945  \n",
       "7743                 United States 2017-02-01          1946  \n",
       "8541                 United States 2017-07-01          1963  \n",
       "8189                 United States 2017-07-01          1967  \n",
       "4550  United Kingdom, West Germany 2018-10-02          1972  "
      ]
     },
     "execution_count": 37,
     "metadata": {},
     "output_type": "execute_result"
    }
   ],
   "source": [
    "print('\\nTabela 12: Top 5 Programas de TV / Seriados mais antigos disponível na Netflix')\n",
    "df[df.type == 'TV Show'].sort_values(by='release_year', ascending=True).head(5)[['type','title','country','date_added','release_year']]"
   ]
  },
  {
   "cell_type": "markdown",
   "id": "78e1d045",
   "metadata": {},
   "source": [
    "O programa de tv / seriado mais antigo disponível na Netflix é o 'Five Came Back: The Reference Films' de 1945. De acordo com o resumo encontrado na plataforma, a série documental discute os filmes de propaganda da Segunda Guerra Mundial.\t"
   ]
  },
  {
   "cell_type": "markdown",
   "id": "a6165893",
   "metadata": {},
   "source": [
    "### 9. WordCloud\n",
    "\n",
    "O wordcloud é uma apresentação visual que mostra as palavras que apareceram com maior frequência na variável ```title```."
   ]
  },
  {
   "cell_type": "code",
   "execution_count": 38,
   "id": "04db2744",
   "metadata": {},
   "outputs": [
    {
     "data": {
      "image/png": "[encoded data removed]",
      "text/plain": [
       "<Figure size 720x576 with 1 Axes>"
      ]
     },
     "metadata": {
      "needs_background": "light"
     },
     "output_type": "display_data"
    }
   ],
   "source": [
    "# WordCloud da Variável Title\n",
    "\n",
    "from wordcloud import WordCloud\n",
    "\n",
    "cmap = matplotlib.colors.LinearSegmentedColormap.from_list(\"\", ['#b20710','#4b4d4b'])\n",
    "\n",
    "plt.subplots(figsize=(10,8))\n",
    "wordcloud = WordCloud(\n",
    "                          background_color='white',\n",
    "                          width=1920,\n",
    "                          height=1080,\n",
    "                          colormap=cmap, max_words=150\n",
    "                         ).generate(\" \".join(df.title))\n",
    "plt.imshow(wordcloud)\n",
    "plt.axis('off')\n",
    "plt.show()"
   ]
  },
  {
   "cell_type": "markdown",
   "id": "116c8778",
   "metadata": {},
   "source": [
    "De acordo com o wordcloud algumas palavras se destacaram nos nomes dos filmes e séries disponíveis na Netflix. Algumas das palavras que apareceram com maior frequência: Love, Christmas, World, Life, City, Time e Story."
   ]
  }
 ],
 "metadata": {
  "kernelspec": {
   "display_name": "Python 3",
   "language": "python",
   "name": "python3"
  },
  "language_info": {
   "codemirror_mode": {
    "name": "ipython",
    "version": 3
   },
   "file_extension": ".py",
   "mimetype": "text/x-python",
   "name": "python",
   "nbconvert_exporter": "python",
   "pygments_lexer": "ipython3",
   "version": "3.8.8"
  }
 },
 "nbformat": 4,
 "nbformat_minor": 5
}
